{
 "cells": [
  {
   "cell_type": "code",
   "execution_count": 179,
   "id": "5f3a5018",
   "metadata": {},
   "outputs": [],
   "source": [
    "import pandas as pd\n",
    "import matplotlib.pyplot as plt\n",
    "import seaborn as sns"
   ]
  },
  {
   "cell_type": "code",
   "execution_count": 28,
   "id": "9a197041",
   "metadata": {},
   "outputs": [
    {
     "data": {
      "text/plain": [
       "(188157, 20)"
      ]
     },
     "execution_count": 28,
     "metadata": {},
     "output_type": "execute_result"
    }
   ],
   "source": [
    "sales = pd.read_csv(\"Sales.csv\", index_col = False)\n",
    "sales.shape\n"
   ]
  },
  {
   "cell_type": "code",
   "execution_count": 29,
   "id": "7ecef8b5",
   "metadata": {},
   "outputs": [
    {
     "name": "stdout",
     "output_type": "stream",
     "text": [
      "<class 'pandas.core.frame.DataFrame'>\n",
      "RangeIndex: 188157 entries, 0 to 188156\n",
      "Data columns (total 20 columns):\n",
      " #   Column                 Non-Null Count   Dtype  \n",
      "---  ------                 --------------   -----  \n",
      " 0   ProductKey             188157 non-null  int64  \n",
      " 1   CustomerKey            188157 non-null  int64  \n",
      " 2   OrderQuantity          188157 non-null  int64  \n",
      " 3   OverallProductCost     188157 non-null  float64\n",
      " 4   SalesAmount            188157 non-null  float64\n",
      " 5   Profit                 188157 non-null  float64\n",
      " 6   CurrencyName           188157 non-null  object \n",
      " 7   SalesReasonName        188157 non-null  object \n",
      " 8   SalesTerritoryKey      188157 non-null  int64  \n",
      " 9   SalesTerritoryGroup    188157 non-null  object \n",
      " 10  SalesTerritoryCountry  188157 non-null  object \n",
      " 11  SalesTerritoryRegion   188157 non-null  object \n",
      " 12  OrderDateKey           188157 non-null  int64  \n",
      " 13  DueDateKey             188157 non-null  int64  \n",
      " 14  ShipDateKey            188157 non-null  int64  \n",
      " 15  OrderDate              188157 non-null  object \n",
      " 16  Weekday                188157 non-null  object \n",
      " 17  Month                  188157 non-null  object \n",
      " 18  Quarter                188157 non-null  int64  \n",
      " 19  Year                   188157 non-null  int64  \n",
      "dtypes: float64(3), int64(9), object(8)\n",
      "memory usage: 28.7+ MB\n"
     ]
    }
   ],
   "source": [
    "\n",
    "sales.info()"
   ]
  },
  {
   "cell_type": "code",
   "execution_count": 30,
   "id": "8adb22d1",
   "metadata": {},
   "outputs": [
    {
     "data": {
      "text/plain": [
       "ProductKey               0\n",
       "CustomerKey              0\n",
       "OrderQuantity            0\n",
       "OverallProductCost       0\n",
       "SalesAmount              0\n",
       "Profit                   0\n",
       "CurrencyName             0\n",
       "SalesReasonName          0\n",
       "SalesTerritoryKey        0\n",
       "SalesTerritoryGroup      0\n",
       "SalesTerritoryCountry    0\n",
       "SalesTerritoryRegion     0\n",
       "OrderDateKey             0\n",
       "DueDateKey               0\n",
       "ShipDateKey              0\n",
       "OrderDate                0\n",
       "Weekday                  0\n",
       "Month                    0\n",
       "Quarter                  0\n",
       "Year                     0\n",
       "dtype: int64"
      ]
     },
     "execution_count": 30,
     "metadata": {},
     "output_type": "execute_result"
    }
   ],
   "source": [
    "sales.isna().sum()"
   ]
  },
  {
   "cell_type": "code",
   "execution_count": 31,
   "id": "1fdcc9d8",
   "metadata": {},
   "outputs": [
    {
     "data": {
      "text/html": [
       "<div>\n",
       "<style scoped>\n",
       "    .dataframe tbody tr th:only-of-type {\n",
       "        vertical-align: middle;\n",
       "    }\n",
       "\n",
       "    .dataframe tbody tr th {\n",
       "        vertical-align: top;\n",
       "    }\n",
       "\n",
       "    .dataframe thead th {\n",
       "        text-align: right;\n",
       "    }\n",
       "</style>\n",
       "<table border=\"1\" class=\"dataframe\">\n",
       "  <thead>\n",
       "    <tr style=\"text-align: right;\">\n",
       "      <th></th>\n",
       "      <th>ProductKey</th>\n",
       "      <th>CustomerKey</th>\n",
       "      <th>OrderQuantity</th>\n",
       "      <th>OverallProductCost</th>\n",
       "      <th>SalesAmount</th>\n",
       "      <th>Profit</th>\n",
       "      <th>CurrencyName</th>\n",
       "      <th>SalesReasonName</th>\n",
       "      <th>SalesTerritoryKey</th>\n",
       "      <th>SalesTerritoryGroup</th>\n",
       "      <th>SalesTerritoryCountry</th>\n",
       "      <th>SalesTerritoryRegion</th>\n",
       "      <th>OrderDateKey</th>\n",
       "      <th>DueDateKey</th>\n",
       "      <th>ShipDateKey</th>\n",
       "      <th>OrderDate</th>\n",
       "      <th>Weekday</th>\n",
       "      <th>Month</th>\n",
       "      <th>Quarter</th>\n",
       "      <th>Year</th>\n",
       "    </tr>\n",
       "  </thead>\n",
       "  <tbody>\n",
       "    <tr>\n",
       "      <th>0</th>\n",
       "      <td>310</td>\n",
       "      <td>21768</td>\n",
       "      <td>1</td>\n",
       "      <td>2547.0126</td>\n",
       "      <td>3578.27</td>\n",
       "      <td>1031.2574</td>\n",
       "      <td>Canadian Dollar</td>\n",
       "      <td>Manufacturer</td>\n",
       "      <td>6</td>\n",
       "      <td>North America</td>\n",
       "      <td>Canada</td>\n",
       "      <td>Canada</td>\n",
       "      <td>20101229</td>\n",
       "      <td>20110110</td>\n",
       "      <td>20110105</td>\n",
       "      <td>12/29/2010</td>\n",
       "      <td>Wednesday</td>\n",
       "      <td>December</td>\n",
       "      <td>4</td>\n",
       "      <td>2010</td>\n",
       "    </tr>\n",
       "    <tr>\n",
       "      <th>1</th>\n",
       "      <td>310</td>\n",
       "      <td>21768</td>\n",
       "      <td>1</td>\n",
       "      <td>2547.0126</td>\n",
       "      <td>3578.27</td>\n",
       "      <td>1031.2574</td>\n",
       "      <td>Canadian Dollar</td>\n",
       "      <td>Quality</td>\n",
       "      <td>6</td>\n",
       "      <td>North America</td>\n",
       "      <td>Canada</td>\n",
       "      <td>Canada</td>\n",
       "      <td>20101229</td>\n",
       "      <td>20110110</td>\n",
       "      <td>20110105</td>\n",
       "      <td>12/29/2010</td>\n",
       "      <td>Wednesday</td>\n",
       "      <td>December</td>\n",
       "      <td>4</td>\n",
       "      <td>2010</td>\n",
       "    </tr>\n",
       "    <tr>\n",
       "      <th>2</th>\n",
       "      <td>311</td>\n",
       "      <td>27645</td>\n",
       "      <td>1</td>\n",
       "      <td>2547.0126</td>\n",
       "      <td>3578.27</td>\n",
       "      <td>1031.2574</td>\n",
       "      <td>US Dollar</td>\n",
       "      <td>Manufacturer</td>\n",
       "      <td>4</td>\n",
       "      <td>North America</td>\n",
       "      <td>United States</td>\n",
       "      <td>Southwest</td>\n",
       "      <td>20101230</td>\n",
       "      <td>20110111</td>\n",
       "      <td>20110106</td>\n",
       "      <td>12/30/2010</td>\n",
       "      <td>Thursday</td>\n",
       "      <td>December</td>\n",
       "      <td>4</td>\n",
       "      <td>2010</td>\n",
       "    </tr>\n",
       "    <tr>\n",
       "      <th>3</th>\n",
       "      <td>311</td>\n",
       "      <td>27645</td>\n",
       "      <td>1</td>\n",
       "      <td>2547.0126</td>\n",
       "      <td>3578.27</td>\n",
       "      <td>1031.2574</td>\n",
       "      <td>US Dollar</td>\n",
       "      <td>Quality</td>\n",
       "      <td>4</td>\n",
       "      <td>North America</td>\n",
       "      <td>United States</td>\n",
       "      <td>Southwest</td>\n",
       "      <td>20101230</td>\n",
       "      <td>20110111</td>\n",
       "      <td>20110106</td>\n",
       "      <td>12/30/2010</td>\n",
       "      <td>Thursday</td>\n",
       "      <td>December</td>\n",
       "      <td>4</td>\n",
       "      <td>2010</td>\n",
       "    </tr>\n",
       "    <tr>\n",
       "      <th>4</th>\n",
       "      <td>310</td>\n",
       "      <td>16624</td>\n",
       "      <td>1</td>\n",
       "      <td>2547.0126</td>\n",
       "      <td>3578.27</td>\n",
       "      <td>1031.2574</td>\n",
       "      <td>Australian Dollar</td>\n",
       "      <td>Manufacturer</td>\n",
       "      <td>9</td>\n",
       "      <td>Pacific</td>\n",
       "      <td>Australia</td>\n",
       "      <td>Australia</td>\n",
       "      <td>20101230</td>\n",
       "      <td>20110111</td>\n",
       "      <td>20110106</td>\n",
       "      <td>12/30/2010</td>\n",
       "      <td>Thursday</td>\n",
       "      <td>December</td>\n",
       "      <td>4</td>\n",
       "      <td>2010</td>\n",
       "    </tr>\n",
       "  </tbody>\n",
       "</table>\n",
       "</div>"
      ],
      "text/plain": [
       "   ProductKey  CustomerKey  OrderQuantity  OverallProductCost  SalesAmount  \\\n",
       "0         310        21768              1           2547.0126      3578.27   \n",
       "1         310        21768              1           2547.0126      3578.27   \n",
       "2         311        27645              1           2547.0126      3578.27   \n",
       "3         311        27645              1           2547.0126      3578.27   \n",
       "4         310        16624              1           2547.0126      3578.27   \n",
       "\n",
       "      Profit       CurrencyName SalesReasonName  SalesTerritoryKey  \\\n",
       "0  1031.2574    Canadian Dollar    Manufacturer                  6   \n",
       "1  1031.2574    Canadian Dollar         Quality                  6   \n",
       "2  1031.2574          US Dollar    Manufacturer                  4   \n",
       "3  1031.2574          US Dollar         Quality                  4   \n",
       "4  1031.2574  Australian Dollar    Manufacturer                  9   \n",
       "\n",
       "  SalesTerritoryGroup SalesTerritoryCountry SalesTerritoryRegion  \\\n",
       "0       North America                Canada               Canada   \n",
       "1       North America                Canada               Canada   \n",
       "2       North America         United States            Southwest   \n",
       "3       North America         United States            Southwest   \n",
       "4             Pacific             Australia            Australia   \n",
       "\n",
       "   OrderDateKey  DueDateKey  ShipDateKey   OrderDate    Weekday     Month  \\\n",
       "0      20101229    20110110     20110105  12/29/2010  Wednesday  December   \n",
       "1      20101229    20110110     20110105  12/29/2010  Wednesday  December   \n",
       "2      20101230    20110111     20110106  12/30/2010   Thursday  December   \n",
       "3      20101230    20110111     20110106  12/30/2010   Thursday  December   \n",
       "4      20101230    20110111     20110106  12/30/2010   Thursday  December   \n",
       "\n",
       "   Quarter  Year  \n",
       "0        4  2010  \n",
       "1        4  2010  \n",
       "2        4  2010  \n",
       "3        4  2010  \n",
       "4        4  2010  "
      ]
     },
     "execution_count": 31,
     "metadata": {},
     "output_type": "execute_result"
    }
   ],
   "source": [
    "sales.head()"
   ]
  },
  {
   "cell_type": "code",
   "execution_count": 32,
   "id": "8c80270a",
   "metadata": {},
   "outputs": [],
   "source": [
    "#from the info we can see that there are no null values, we can just drop the columns we don't need\n",
    "#Dropping columns\n",
    "sales.drop(columns = [\"CurrencyName\", \"SalesTerritoryKey\", \"OrderDateKey\", \"DueDateKey\", \"ShipDateKey\"], inplace = True)\n"
   ]
  },
  {
   "cell_type": "code",
   "execution_count": 7,
   "id": "051f412b",
   "metadata": {},
   "outputs": [
    {
     "data": {
      "text/html": [
       "<div>\n",
       "<style scoped>\n",
       "    .dataframe tbody tr th:only-of-type {\n",
       "        vertical-align: middle;\n",
       "    }\n",
       "\n",
       "    .dataframe tbody tr th {\n",
       "        vertical-align: top;\n",
       "    }\n",
       "\n",
       "    .dataframe thead th {\n",
       "        text-align: right;\n",
       "    }\n",
       "</style>\n",
       "<table border=\"1\" class=\"dataframe\">\n",
       "  <thead>\n",
       "    <tr style=\"text-align: right;\">\n",
       "      <th></th>\n",
       "      <th>ProductKey</th>\n",
       "      <th>CustomerKey</th>\n",
       "      <th>OrderQuantity</th>\n",
       "      <th>OverallProductCost</th>\n",
       "      <th>SalesAmount</th>\n",
       "      <th>Profit</th>\n",
       "      <th>SalesReasonName</th>\n",
       "      <th>SalesTerritoryGroup</th>\n",
       "      <th>SalesTerritoryCountry</th>\n",
       "      <th>SalesTerritoryRegion</th>\n",
       "      <th>OrderDate</th>\n",
       "      <th>Weekday</th>\n",
       "      <th>Month</th>\n",
       "      <th>Quarter</th>\n",
       "      <th>Year</th>\n",
       "    </tr>\n",
       "  </thead>\n",
       "  <tbody>\n",
       "    <tr>\n",
       "      <th>0</th>\n",
       "      <td>310</td>\n",
       "      <td>21768</td>\n",
       "      <td>1</td>\n",
       "      <td>2547.0126</td>\n",
       "      <td>3578.27</td>\n",
       "      <td>1031.2574</td>\n",
       "      <td>Manufacturer</td>\n",
       "      <td>North America</td>\n",
       "      <td>Canada</td>\n",
       "      <td>Canada</td>\n",
       "      <td>12/29/2010</td>\n",
       "      <td>Wednesday</td>\n",
       "      <td>December</td>\n",
       "      <td>4</td>\n",
       "      <td>2010</td>\n",
       "    </tr>\n",
       "    <tr>\n",
       "      <th>1</th>\n",
       "      <td>310</td>\n",
       "      <td>21768</td>\n",
       "      <td>1</td>\n",
       "      <td>2547.0126</td>\n",
       "      <td>3578.27</td>\n",
       "      <td>1031.2574</td>\n",
       "      <td>Quality</td>\n",
       "      <td>North America</td>\n",
       "      <td>Canada</td>\n",
       "      <td>Canada</td>\n",
       "      <td>12/29/2010</td>\n",
       "      <td>Wednesday</td>\n",
       "      <td>December</td>\n",
       "      <td>4</td>\n",
       "      <td>2010</td>\n",
       "    </tr>\n",
       "    <tr>\n",
       "      <th>2</th>\n",
       "      <td>311</td>\n",
       "      <td>27645</td>\n",
       "      <td>1</td>\n",
       "      <td>2547.0126</td>\n",
       "      <td>3578.27</td>\n",
       "      <td>1031.2574</td>\n",
       "      <td>Manufacturer</td>\n",
       "      <td>North America</td>\n",
       "      <td>United States</td>\n",
       "      <td>Southwest</td>\n",
       "      <td>12/30/2010</td>\n",
       "      <td>Thursday</td>\n",
       "      <td>December</td>\n",
       "      <td>4</td>\n",
       "      <td>2010</td>\n",
       "    </tr>\n",
       "    <tr>\n",
       "      <th>3</th>\n",
       "      <td>311</td>\n",
       "      <td>27645</td>\n",
       "      <td>1</td>\n",
       "      <td>2547.0126</td>\n",
       "      <td>3578.27</td>\n",
       "      <td>1031.2574</td>\n",
       "      <td>Quality</td>\n",
       "      <td>North America</td>\n",
       "      <td>United States</td>\n",
       "      <td>Southwest</td>\n",
       "      <td>12/30/2010</td>\n",
       "      <td>Thursday</td>\n",
       "      <td>December</td>\n",
       "      <td>4</td>\n",
       "      <td>2010</td>\n",
       "    </tr>\n",
       "    <tr>\n",
       "      <th>4</th>\n",
       "      <td>310</td>\n",
       "      <td>16624</td>\n",
       "      <td>1</td>\n",
       "      <td>2547.0126</td>\n",
       "      <td>3578.27</td>\n",
       "      <td>1031.2574</td>\n",
       "      <td>Manufacturer</td>\n",
       "      <td>Pacific</td>\n",
       "      <td>Australia</td>\n",
       "      <td>Australia</td>\n",
       "      <td>12/30/2010</td>\n",
       "      <td>Thursday</td>\n",
       "      <td>December</td>\n",
       "      <td>4</td>\n",
       "      <td>2010</td>\n",
       "    </tr>\n",
       "  </tbody>\n",
       "</table>\n",
       "</div>"
      ],
      "text/plain": [
       "   ProductKey  CustomerKey  OrderQuantity  OverallProductCost  SalesAmount  \\\n",
       "0         310        21768              1           2547.0126      3578.27   \n",
       "1         310        21768              1           2547.0126      3578.27   \n",
       "2         311        27645              1           2547.0126      3578.27   \n",
       "3         311        27645              1           2547.0126      3578.27   \n",
       "4         310        16624              1           2547.0126      3578.27   \n",
       "\n",
       "      Profit SalesReasonName SalesTerritoryGroup SalesTerritoryCountry  \\\n",
       "0  1031.2574    Manufacturer       North America                Canada   \n",
       "1  1031.2574         Quality       North America                Canada   \n",
       "2  1031.2574    Manufacturer       North America         United States   \n",
       "3  1031.2574         Quality       North America         United States   \n",
       "4  1031.2574    Manufacturer             Pacific             Australia   \n",
       "\n",
       "  SalesTerritoryRegion   OrderDate    Weekday     Month  Quarter  Year  \n",
       "0               Canada  12/29/2010  Wednesday  December        4  2010  \n",
       "1               Canada  12/29/2010  Wednesday  December        4  2010  \n",
       "2            Southwest  12/30/2010   Thursday  December        4  2010  \n",
       "3            Southwest  12/30/2010   Thursday  December        4  2010  \n",
       "4            Australia  12/30/2010   Thursday  December        4  2010  "
      ]
     },
     "execution_count": 7,
     "metadata": {},
     "output_type": "execute_result"
    }
   ],
   "source": [
    "sales.head()"
   ]
  },
  {
   "cell_type": "code",
   "execution_count": 33,
   "id": "63211ee2",
   "metadata": {},
   "outputs": [
    {
     "data": {
      "text/html": [
       "<div>\n",
       "<style scoped>\n",
       "    .dataframe tbody tr th:only-of-type {\n",
       "        vertical-align: middle;\n",
       "    }\n",
       "\n",
       "    .dataframe tbody tr th {\n",
       "        vertical-align: top;\n",
       "    }\n",
       "\n",
       "    .dataframe thead th {\n",
       "        text-align: right;\n",
       "    }\n",
       "</style>\n",
       "<table border=\"1\" class=\"dataframe\">\n",
       "  <thead>\n",
       "    <tr style=\"text-align: right;\">\n",
       "      <th></th>\n",
       "      <th>ProductKey</th>\n",
       "      <th>CustomerKey</th>\n",
       "      <th>OrderQuantity</th>\n",
       "      <th>OverallProductCost</th>\n",
       "      <th>SalesAmount</th>\n",
       "      <th>Profit</th>\n",
       "      <th>Quarter</th>\n",
       "      <th>Year</th>\n",
       "    </tr>\n",
       "  </thead>\n",
       "  <tbody>\n",
       "    <tr>\n",
       "      <th>count</th>\n",
       "      <td>188157.000000</td>\n",
       "      <td>188157.000000</td>\n",
       "      <td>188157.0</td>\n",
       "      <td>188157.000000</td>\n",
       "      <td>188157.000000</td>\n",
       "      <td>188157.000000</td>\n",
       "      <td>188157.000000</td>\n",
       "      <td>188157.000000</td>\n",
       "    </tr>\n",
       "    <tr>\n",
       "      <th>mean</th>\n",
       "      <td>446.538237</td>\n",
       "      <td>18798.441036</td>\n",
       "      <td>1.0</td>\n",
       "      <td>235.441547</td>\n",
       "      <td>340.980965</td>\n",
       "      <td>105.539418</td>\n",
       "      <td>2.655160</td>\n",
       "      <td>2012.986437</td>\n",
       "    </tr>\n",
       "    <tr>\n",
       "      <th>std</th>\n",
       "      <td>117.215695</td>\n",
       "      <td>5381.948442</td>\n",
       "      <td>0.0</td>\n",
       "      <td>550.125067</td>\n",
       "      <td>786.148259</td>\n",
       "      <td>239.104014</td>\n",
       "      <td>1.103456</td>\n",
       "      <td>0.331087</td>\n",
       "    </tr>\n",
       "    <tr>\n",
       "      <th>min</th>\n",
       "      <td>214.000000</td>\n",
       "      <td>11000.000000</td>\n",
       "      <td>1.0</td>\n",
       "      <td>1.097000</td>\n",
       "      <td>2.290000</td>\n",
       "      <td>1.123700</td>\n",
       "      <td>1.000000</td>\n",
       "      <td>2010.000000</td>\n",
       "    </tr>\n",
       "    <tr>\n",
       "      <th>25%</th>\n",
       "      <td>378.000000</td>\n",
       "      <td>13995.000000</td>\n",
       "      <td>1.0</td>\n",
       "      <td>2.390300</td>\n",
       "      <td>4.990000</td>\n",
       "      <td>2.599700</td>\n",
       "      <td>2.000000</td>\n",
       "      <td>2013.000000</td>\n",
       "    </tr>\n",
       "    <tr>\n",
       "      <th>50%</th>\n",
       "      <td>480.000000</td>\n",
       "      <td>18121.000000</td>\n",
       "      <td>1.0</td>\n",
       "      <td>11.730800</td>\n",
       "      <td>24.490000</td>\n",
       "      <td>11.451600</td>\n",
       "      <td>3.000000</td>\n",
       "      <td>2013.000000</td>\n",
       "    </tr>\n",
       "    <tr>\n",
       "      <th>75%</th>\n",
       "      <td>529.000000</td>\n",
       "      <td>23282.000000</td>\n",
       "      <td>1.0</td>\n",
       "      <td>33.525300</td>\n",
       "      <td>49.990000</td>\n",
       "      <td>18.229700</td>\n",
       "      <td>4.000000</td>\n",
       "      <td>2013.000000</td>\n",
       "    </tr>\n",
       "    <tr>\n",
       "      <th>max</th>\n",
       "      <td>606.000000</td>\n",
       "      <td>29483.000000</td>\n",
       "      <td>1.0</td>\n",
       "      <td>2547.012600</td>\n",
       "      <td>3578.270000</td>\n",
       "      <td>1031.257400</td>\n",
       "      <td>4.000000</td>\n",
       "      <td>2014.000000</td>\n",
       "    </tr>\n",
       "  </tbody>\n",
       "</table>\n",
       "</div>"
      ],
      "text/plain": [
       "          ProductKey    CustomerKey  OrderQuantity  OverallProductCost  \\\n",
       "count  188157.000000  188157.000000       188157.0       188157.000000   \n",
       "mean      446.538237   18798.441036            1.0          235.441547   \n",
       "std       117.215695    5381.948442            0.0          550.125067   \n",
       "min       214.000000   11000.000000            1.0            1.097000   \n",
       "25%       378.000000   13995.000000            1.0            2.390300   \n",
       "50%       480.000000   18121.000000            1.0           11.730800   \n",
       "75%       529.000000   23282.000000            1.0           33.525300   \n",
       "max       606.000000   29483.000000            1.0         2547.012600   \n",
       "\n",
       "         SalesAmount         Profit        Quarter           Year  \n",
       "count  188157.000000  188157.000000  188157.000000  188157.000000  \n",
       "mean      340.980965     105.539418       2.655160    2012.986437  \n",
       "std       786.148259     239.104014       1.103456       0.331087  \n",
       "min         2.290000       1.123700       1.000000    2010.000000  \n",
       "25%         4.990000       2.599700       2.000000    2013.000000  \n",
       "50%        24.490000      11.451600       3.000000    2013.000000  \n",
       "75%        49.990000      18.229700       4.000000    2013.000000  \n",
       "max      3578.270000    1031.257400       4.000000    2014.000000  "
      ]
     },
     "execution_count": 33,
     "metadata": {},
     "output_type": "execute_result"
    }
   ],
   "source": [
    "sales.describe()"
   ]
  },
  {
   "cell_type": "code",
   "execution_count": 34,
   "id": "9137fdae",
   "metadata": {},
   "outputs": [
    {
     "name": "stdout",
     "output_type": "stream",
     "text": [
      "<class 'pandas.core.frame.DataFrame'>\n",
      "RangeIndex: 188157 entries, 0 to 188156\n",
      "Data columns (total 15 columns):\n",
      " #   Column                 Non-Null Count   Dtype  \n",
      "---  ------                 --------------   -----  \n",
      " 0   ProductKey             188157 non-null  int64  \n",
      " 1   CustomerKey            188157 non-null  int64  \n",
      " 2   OrderQuantity          188157 non-null  int64  \n",
      " 3   OverallProductCost     188157 non-null  float64\n",
      " 4   SalesAmount            188157 non-null  float64\n",
      " 5   Profit                 188157 non-null  float64\n",
      " 6   SalesReasonName        188157 non-null  object \n",
      " 7   SalesTerritoryGroup    188157 non-null  object \n",
      " 8   SalesTerritoryCountry  188157 non-null  object \n",
      " 9   SalesTerritoryRegion   188157 non-null  object \n",
      " 10  OrderDate              188157 non-null  object \n",
      " 11  Weekday                188157 non-null  object \n",
      " 12  Month                  188157 non-null  object \n",
      " 13  Quarter                188157 non-null  object \n",
      " 14  Year                   188157 non-null  object \n",
      "dtypes: float64(3), int64(3), object(9)\n",
      "memory usage: 21.5+ MB\n"
     ]
    }
   ],
   "source": [
    "#changing the year and quarter columns to strings\n",
    "sales[\"Year\"], sales[\"Quarter\"] = sales[\"Year\"].astype(str), sales[\"Quarter\"].astype(str)\n",
    "sales.info()"
   ]
  },
  {
   "cell_type": "code",
   "execution_count": 35,
   "id": "126c9702",
   "metadata": {},
   "outputs": [
    {
     "data": {
      "text/html": [
       "<div>\n",
       "<style scoped>\n",
       "    .dataframe tbody tr th:only-of-type {\n",
       "        vertical-align: middle;\n",
       "    }\n",
       "\n",
       "    .dataframe tbody tr th {\n",
       "        vertical-align: top;\n",
       "    }\n",
       "\n",
       "    .dataframe thead th {\n",
       "        text-align: right;\n",
       "    }\n",
       "</style>\n",
       "<table border=\"1\" class=\"dataframe\">\n",
       "  <thead>\n",
       "    <tr style=\"text-align: right;\">\n",
       "      <th></th>\n",
       "      <th>ProductKey</th>\n",
       "      <th>CustomerKey</th>\n",
       "      <th>OrderQuantity</th>\n",
       "      <th>OverallProductCost</th>\n",
       "      <th>SalesAmount</th>\n",
       "      <th>Profit</th>\n",
       "      <th>SalesReason</th>\n",
       "      <th>Continent</th>\n",
       "      <th>Country</th>\n",
       "      <th>Region</th>\n",
       "      <th>OrderDate</th>\n",
       "      <th>Weekday</th>\n",
       "      <th>Month</th>\n",
       "      <th>Quarter</th>\n",
       "      <th>Year</th>\n",
       "    </tr>\n",
       "  </thead>\n",
       "  <tbody>\n",
       "    <tr>\n",
       "      <th>0</th>\n",
       "      <td>310</td>\n",
       "      <td>21768</td>\n",
       "      <td>1</td>\n",
       "      <td>2547.0126</td>\n",
       "      <td>3578.27</td>\n",
       "      <td>1031.2574</td>\n",
       "      <td>Manufacturer</td>\n",
       "      <td>North America</td>\n",
       "      <td>Canada</td>\n",
       "      <td>Canada</td>\n",
       "      <td>12/29/2010</td>\n",
       "      <td>Wednesday</td>\n",
       "      <td>December</td>\n",
       "      <td>4</td>\n",
       "      <td>2010</td>\n",
       "    </tr>\n",
       "    <tr>\n",
       "      <th>1</th>\n",
       "      <td>310</td>\n",
       "      <td>21768</td>\n",
       "      <td>1</td>\n",
       "      <td>2547.0126</td>\n",
       "      <td>3578.27</td>\n",
       "      <td>1031.2574</td>\n",
       "      <td>Quality</td>\n",
       "      <td>North America</td>\n",
       "      <td>Canada</td>\n",
       "      <td>Canada</td>\n",
       "      <td>12/29/2010</td>\n",
       "      <td>Wednesday</td>\n",
       "      <td>December</td>\n",
       "      <td>4</td>\n",
       "      <td>2010</td>\n",
       "    </tr>\n",
       "    <tr>\n",
       "      <th>2</th>\n",
       "      <td>311</td>\n",
       "      <td>27645</td>\n",
       "      <td>1</td>\n",
       "      <td>2547.0126</td>\n",
       "      <td>3578.27</td>\n",
       "      <td>1031.2574</td>\n",
       "      <td>Manufacturer</td>\n",
       "      <td>North America</td>\n",
       "      <td>United States</td>\n",
       "      <td>Southwest</td>\n",
       "      <td>12/30/2010</td>\n",
       "      <td>Thursday</td>\n",
       "      <td>December</td>\n",
       "      <td>4</td>\n",
       "      <td>2010</td>\n",
       "    </tr>\n",
       "    <tr>\n",
       "      <th>3</th>\n",
       "      <td>311</td>\n",
       "      <td>27645</td>\n",
       "      <td>1</td>\n",
       "      <td>2547.0126</td>\n",
       "      <td>3578.27</td>\n",
       "      <td>1031.2574</td>\n",
       "      <td>Quality</td>\n",
       "      <td>North America</td>\n",
       "      <td>United States</td>\n",
       "      <td>Southwest</td>\n",
       "      <td>12/30/2010</td>\n",
       "      <td>Thursday</td>\n",
       "      <td>December</td>\n",
       "      <td>4</td>\n",
       "      <td>2010</td>\n",
       "    </tr>\n",
       "    <tr>\n",
       "      <th>4</th>\n",
       "      <td>310</td>\n",
       "      <td>16624</td>\n",
       "      <td>1</td>\n",
       "      <td>2547.0126</td>\n",
       "      <td>3578.27</td>\n",
       "      <td>1031.2574</td>\n",
       "      <td>Manufacturer</td>\n",
       "      <td>Pacific</td>\n",
       "      <td>Australia</td>\n",
       "      <td>Australia</td>\n",
       "      <td>12/30/2010</td>\n",
       "      <td>Thursday</td>\n",
       "      <td>December</td>\n",
       "      <td>4</td>\n",
       "      <td>2010</td>\n",
       "    </tr>\n",
       "    <tr>\n",
       "      <th>...</th>\n",
       "      <td>...</td>\n",
       "      <td>...</td>\n",
       "      <td>...</td>\n",
       "      <td>...</td>\n",
       "      <td>...</td>\n",
       "      <td>...</td>\n",
       "      <td>...</td>\n",
       "      <td>...</td>\n",
       "      <td>...</td>\n",
       "      <td>...</td>\n",
       "      <td>...</td>\n",
       "      <td>...</td>\n",
       "      <td>...</td>\n",
       "      <td>...</td>\n",
       "      <td>...</td>\n",
       "    </tr>\n",
       "    <tr>\n",
       "      <th>188152</th>\n",
       "      <td>486</td>\n",
       "      <td>18759</td>\n",
       "      <td>1</td>\n",
       "      <td>76.1610</td>\n",
       "      <td>159.00</td>\n",
       "      <td>82.8390</td>\n",
       "      <td>Price</td>\n",
       "      <td>North America</td>\n",
       "      <td>Canada</td>\n",
       "      <td>Canada</td>\n",
       "      <td>1/28/2014</td>\n",
       "      <td>Tuesday</td>\n",
       "      <td>January</td>\n",
       "      <td>1</td>\n",
       "      <td>2014</td>\n",
       "    </tr>\n",
       "    <tr>\n",
       "      <th>188153</th>\n",
       "      <td>225</td>\n",
       "      <td>18759</td>\n",
       "      <td>1</td>\n",
       "      <td>7.8663</td>\n",
       "      <td>8.99</td>\n",
       "      <td>1.1237</td>\n",
       "      <td>Price</td>\n",
       "      <td>North America</td>\n",
       "      <td>Canada</td>\n",
       "      <td>Canada</td>\n",
       "      <td>1/28/2014</td>\n",
       "      <td>Tuesday</td>\n",
       "      <td>January</td>\n",
       "      <td>1</td>\n",
       "      <td>2014</td>\n",
       "    </tr>\n",
       "    <tr>\n",
       "      <th>188154</th>\n",
       "      <td>485</td>\n",
       "      <td>18759</td>\n",
       "      <td>1</td>\n",
       "      <td>10.5284</td>\n",
       "      <td>21.98</td>\n",
       "      <td>11.4516</td>\n",
       "      <td>Price</td>\n",
       "      <td>North America</td>\n",
       "      <td>Canada</td>\n",
       "      <td>Canada</td>\n",
       "      <td>1/28/2014</td>\n",
       "      <td>Tuesday</td>\n",
       "      <td>January</td>\n",
       "      <td>1</td>\n",
       "      <td>2014</td>\n",
       "    </tr>\n",
       "    <tr>\n",
       "      <th>188155</th>\n",
       "      <td>486</td>\n",
       "      <td>18759</td>\n",
       "      <td>1</td>\n",
       "      <td>76.1610</td>\n",
       "      <td>159.00</td>\n",
       "      <td>82.8390</td>\n",
       "      <td>Price</td>\n",
       "      <td>North America</td>\n",
       "      <td>Canada</td>\n",
       "      <td>Canada</td>\n",
       "      <td>1/28/2014</td>\n",
       "      <td>Tuesday</td>\n",
       "      <td>January</td>\n",
       "      <td>1</td>\n",
       "      <td>2014</td>\n",
       "    </tr>\n",
       "    <tr>\n",
       "      <th>188156</th>\n",
       "      <td>225</td>\n",
       "      <td>18759</td>\n",
       "      <td>1</td>\n",
       "      <td>7.8663</td>\n",
       "      <td>8.99</td>\n",
       "      <td>1.1237</td>\n",
       "      <td>Price</td>\n",
       "      <td>North America</td>\n",
       "      <td>Canada</td>\n",
       "      <td>Canada</td>\n",
       "      <td>1/28/2014</td>\n",
       "      <td>Tuesday</td>\n",
       "      <td>January</td>\n",
       "      <td>1</td>\n",
       "      <td>2014</td>\n",
       "    </tr>\n",
       "  </tbody>\n",
       "</table>\n",
       "<p>188157 rows × 15 columns</p>\n",
       "</div>"
      ],
      "text/plain": [
       "        ProductKey  CustomerKey  OrderQuantity  OverallProductCost  \\\n",
       "0              310        21768              1           2547.0126   \n",
       "1              310        21768              1           2547.0126   \n",
       "2              311        27645              1           2547.0126   \n",
       "3              311        27645              1           2547.0126   \n",
       "4              310        16624              1           2547.0126   \n",
       "...            ...          ...            ...                 ...   \n",
       "188152         486        18759              1             76.1610   \n",
       "188153         225        18759              1              7.8663   \n",
       "188154         485        18759              1             10.5284   \n",
       "188155         486        18759              1             76.1610   \n",
       "188156         225        18759              1              7.8663   \n",
       "\n",
       "        SalesAmount     Profit   SalesReason      Continent        Country  \\\n",
       "0           3578.27  1031.2574  Manufacturer  North America         Canada   \n",
       "1           3578.27  1031.2574       Quality  North America         Canada   \n",
       "2           3578.27  1031.2574  Manufacturer  North America  United States   \n",
       "3           3578.27  1031.2574       Quality  North America  United States   \n",
       "4           3578.27  1031.2574  Manufacturer        Pacific      Australia   \n",
       "...             ...        ...           ...            ...            ...   \n",
       "188152       159.00    82.8390         Price  North America         Canada   \n",
       "188153         8.99     1.1237         Price  North America         Canada   \n",
       "188154        21.98    11.4516         Price  North America         Canada   \n",
       "188155       159.00    82.8390         Price  North America         Canada   \n",
       "188156         8.99     1.1237         Price  North America         Canada   \n",
       "\n",
       "           Region   OrderDate    Weekday     Month Quarter  Year  \n",
       "0          Canada  12/29/2010  Wednesday  December       4  2010  \n",
       "1          Canada  12/29/2010  Wednesday  December       4  2010  \n",
       "2       Southwest  12/30/2010   Thursday  December       4  2010  \n",
       "3       Southwest  12/30/2010   Thursday  December       4  2010  \n",
       "4       Australia  12/30/2010   Thursday  December       4  2010  \n",
       "...           ...         ...        ...       ...     ...   ...  \n",
       "188152     Canada   1/28/2014    Tuesday   January       1  2014  \n",
       "188153     Canada   1/28/2014    Tuesday   January       1  2014  \n",
       "188154     Canada   1/28/2014    Tuesday   January       1  2014  \n",
       "188155     Canada   1/28/2014    Tuesday   January       1  2014  \n",
       "188156     Canada   1/28/2014    Tuesday   January       1  2014  \n",
       "\n",
       "[188157 rows x 15 columns]"
      ]
     },
     "execution_count": 35,
     "metadata": {},
     "output_type": "execute_result"
    }
   ],
   "source": [
    "sales.rename(columns = {\"SalesReasonName\" : \"SalesReason\", \"SalesTerritoryGroup\": \"Continent\",\n",
    "             \"SalesTerritoryCountry\": \"Country\", \"SalesTerritoryRegion\": \"Region\"}, inplace = True)\n",
    "\n",
    "sales"
   ]
  },
  {
   "cell_type": "code",
   "execution_count": 13,
   "id": "041edb86",
   "metadata": {},
   "outputs": [
    {
     "data": {
      "text/html": [
       "<div>\n",
       "<style scoped>\n",
       "    .dataframe tbody tr th:only-of-type {\n",
       "        vertical-align: middle;\n",
       "    }\n",
       "\n",
       "    .dataframe tbody tr th {\n",
       "        vertical-align: top;\n",
       "    }\n",
       "\n",
       "    .dataframe thead th {\n",
       "        text-align: right;\n",
       "    }\n",
       "</style>\n",
       "<table border=\"1\" class=\"dataframe\">\n",
       "  <thead>\n",
       "    <tr style=\"text-align: right;\">\n",
       "      <th></th>\n",
       "      <th>SalesAmount</th>\n",
       "    </tr>\n",
       "    <tr>\n",
       "      <th>Year</th>\n",
       "      <th></th>\n",
       "    </tr>\n",
       "  </thead>\n",
       "  <tbody>\n",
       "    <tr>\n",
       "      <th>2010</th>\n",
       "      <td>5.009578e+04</td>\n",
       "    </tr>\n",
       "    <tr>\n",
       "      <th>2011</th>\n",
       "      <td>1.107258e+07</td>\n",
       "    </tr>\n",
       "    <tr>\n",
       "      <th>2012</th>\n",
       "      <td>3.631891e+06</td>\n",
       "    </tr>\n",
       "    <tr>\n",
       "      <th>2013</th>\n",
       "      <td>4.927022e+07</td>\n",
       "    </tr>\n",
       "    <tr>\n",
       "      <th>2014</th>\n",
       "      <td>1.331755e+05</td>\n",
       "    </tr>\n",
       "  </tbody>\n",
       "</table>\n",
       "</div>"
      ],
      "text/plain": [
       "       SalesAmount\n",
       "Year              \n",
       "2010  5.009578e+04\n",
       "2011  1.107258e+07\n",
       "2012  3.631891e+06\n",
       "2013  4.927022e+07\n",
       "2014  1.331755e+05"
      ]
     },
     "execution_count": 13,
     "metadata": {},
     "output_type": "execute_result"
    }
   ],
   "source": [
    "sales_per_year = pd.DataFrame(sales.groupby(\"Year\")[\"SalesAmount\"].sum())\n",
    "sales_per_year\n"
   ]
  },
  {
   "cell_type": "code",
   "execution_count": 19,
   "id": "aa2a1456",
   "metadata": {},
   "outputs": [
    {
     "data": {
      "text/plain": [
       "''"
      ]
     },
     "execution_count": 19,
     "metadata": {},
     "output_type": "execute_result"
    },
    {
     "data": {
      "image/png": "[encoded data removed]",
      "text/plain": [
       "<Figure size 432x288 with 1 Axes>"
      ]
     },
     "metadata": {
      "needs_background": "light"
     },
     "output_type": "display_data"
    }
   ],
   "source": [
    "sales_per_year.plot(kind = \"line\", xlabel = \"Year\", ylabel = \"Total Sales\", title = \"Trend of Sales per year\")\n",
    ";"
   ]
  },
  {
   "cell_type": "code",
   "execution_count": 44,
   "id": "63a9b2d7",
   "metadata": {},
   "outputs": [
    {
     "data": {
      "text/html": [
       "<div>\n",
       "<style scoped>\n",
       "    .dataframe tbody tr th:only-of-type {\n",
       "        vertical-align: middle;\n",
       "    }\n",
       "\n",
       "    .dataframe tbody tr th {\n",
       "        vertical-align: top;\n",
       "    }\n",
       "\n",
       "    .dataframe thead th {\n",
       "        text-align: right;\n",
       "    }\n",
       "</style>\n",
       "<table border=\"1\" class=\"dataframe\">\n",
       "  <thead>\n",
       "    <tr style=\"text-align: right;\">\n",
       "      <th></th>\n",
       "      <th>SalesAmount</th>\n",
       "    </tr>\n",
       "    <tr>\n",
       "      <th>Country</th>\n",
       "      <th></th>\n",
       "    </tr>\n",
       "  </thead>\n",
       "  <tbody>\n",
       "    <tr>\n",
       "      <th>Canada</th>\n",
       "      <td>4.586597e+06</td>\n",
       "    </tr>\n",
       "    <tr>\n",
       "      <th>France</th>\n",
       "      <td>5.769536e+06</td>\n",
       "    </tr>\n",
       "    <tr>\n",
       "      <th>Germany</th>\n",
       "      <td>6.807178e+06</td>\n",
       "    </tr>\n",
       "    <tr>\n",
       "      <th>United Kingdom</th>\n",
       "      <td>7.822411e+06</td>\n",
       "    </tr>\n",
       "    <tr>\n",
       "      <th>Australia</th>\n",
       "      <td>1.705983e+07</td>\n",
       "    </tr>\n",
       "    <tr>\n",
       "      <th>United States</th>\n",
       "      <td>2.211240e+07</td>\n",
       "    </tr>\n",
       "  </tbody>\n",
       "</table>\n",
       "</div>"
      ],
      "text/plain": [
       "                 SalesAmount\n",
       "Country                     \n",
       "Canada          4.586597e+06\n",
       "France          5.769536e+06\n",
       "Germany         6.807178e+06\n",
       "United Kingdom  7.822411e+06\n",
       "Australia       1.705983e+07\n",
       "United States   2.211240e+07"
      ]
     },
     "execution_count": 44,
     "metadata": {},
     "output_type": "execute_result"
    }
   ],
   "source": [
    "sales_per_country = pd.DataFrame(sales.groupby(\"Country\")[\"SalesAmount\"].sum().sort_values())\n",
    "sales_per_country"
   ]
  },
  {
   "cell_type": "code",
   "execution_count": 51,
   "id": "9dde398b",
   "metadata": {},
   "outputs": [
    {
     "data": {
      "text/plain": [
       "<AxesSubplot:title={'center':'Total Sales per Country'}, xlabel='Country', ylabel='Total Sales'>"
      ]
     },
     "execution_count": 51,
     "metadata": {},
     "output_type": "execute_result"
    },
    {
     "data": {
      "image/png": "[encoded data removed]",
      "text/plain": [
       "<Figure size 432x288 with 1 Axes>"
      ]
     },
     "metadata": {
      "needs_background": "light"
     },
     "output_type": "display_data"
    }
   ],
   "source": [
    "sales_per_country.plot(kind = \"bar\",\n",
    "                      xlabel = \"Country\",\n",
    "                      ylabel = \"Total Sales\",\n",
    "                      title = \"Total Sales per Country\",\n",
    "                      color = \"green\")"
   ]
  },
  {
   "cell_type": "code",
   "execution_count": 60,
   "id": "07d5d31e",
   "metadata": {},
   "outputs": [
    {
     "data": {
      "text/plain": [
       "<AxesSubplot:title={'center':'Sales in US Regions'}, xlabel='Region', ylabel='Total Sales'>"
      ]
     },
     "execution_count": 60,
     "metadata": {},
     "output_type": "execute_result"
    },
    {
     "data": {
      "image/png": "[encoded data removed]",
      "text/plain": [
       "<Figure size 432x288 with 1 Axes>"
      ]
     },
     "metadata": {
      "needs_background": "light"
     },
     "output_type": "display_data"
    }
   ],
   "source": [
    "sales_in_us = sales[sales[\"Country\"] == \"United States\"]\n",
    "sales_in_us_region = pd.DataFrame(sales_in_us.groupby(\"Region\")[\"SalesAmount\"].sum()\n",
    "                                  .sort_values(ascending = False))\n",
    "sales_in_us_region\n",
    "sales_in_us_region.plot(kind = \"bar\", xlabel = \"Region\",\n",
    "                       ylabel = \"Total Sales\", title  = \"Sales in US Regions\")\n"
   ]
  },
  {
   "cell_type": "code",
   "execution_count": 56,
   "id": "d27408c0",
   "metadata": {},
   "outputs": [
    {
     "data": {
      "text/html": [
       "<div>\n",
       "<style scoped>\n",
       "    .dataframe tbody tr th:only-of-type {\n",
       "        vertical-align: middle;\n",
       "    }\n",
       "\n",
       "    .dataframe tbody tr th {\n",
       "        vertical-align: top;\n",
       "    }\n",
       "\n",
       "    .dataframe thead th {\n",
       "        text-align: right;\n",
       "    }\n",
       "</style>\n",
       "<table border=\"1\" class=\"dataframe\">\n",
       "  <thead>\n",
       "    <tr style=\"text-align: right;\">\n",
       "      <th></th>\n",
       "      <th>SalesAmount</th>\n",
       "    </tr>\n",
       "    <tr>\n",
       "      <th>Region</th>\n",
       "      <th></th>\n",
       "    </tr>\n",
       "  </thead>\n",
       "  <tbody>\n",
       "    <tr>\n",
       "      <th>Southwest</th>\n",
       "      <td>1.362861e+07</td>\n",
       "    </tr>\n",
       "    <tr>\n",
       "      <th>Northwest</th>\n",
       "      <td>8.410377e+06</td>\n",
       "    </tr>\n",
       "    <tr>\n",
       "      <th>Southeast</th>\n",
       "      <td>4.943008e+04</td>\n",
       "    </tr>\n",
       "    <tr>\n",
       "      <th>Northeast</th>\n",
       "      <td>1.598112e+04</td>\n",
       "    </tr>\n",
       "    <tr>\n",
       "      <th>Central</th>\n",
       "      <td>7.998280e+03</td>\n",
       "    </tr>\n",
       "  </tbody>\n",
       "</table>\n",
       "</div>"
      ],
      "text/plain": [
       "            SalesAmount\n",
       "Region                 \n",
       "Southwest  1.362861e+07\n",
       "Northwest  8.410377e+06\n",
       "Southeast  4.943008e+04\n",
       "Northeast  1.598112e+04\n",
       "Central    7.998280e+03"
      ]
     },
     "execution_count": 56,
     "metadata": {},
     "output_type": "execute_result"
    }
   ],
   "source": [
    "sales_in_us_region"
   ]
  },
  {
   "cell_type": "code",
   "execution_count": 67,
   "id": "810c02e5",
   "metadata": {},
   "outputs": [
    {
     "data": {
      "text/plain": [
       "<AxesSubplot:ylabel='Days of the Week'>"
      ]
     },
     "execution_count": 67,
     "metadata": {},
     "output_type": "execute_result"
    },
    {
     "data": {
      "image/png": "[encoded data removed]",
      "text/plain": [
       "<Figure size 432x288 with 1 Axes>"
      ]
     },
     "metadata": {
      "needs_background": "light"
     },
     "output_type": "display_data"
    }
   ],
   "source": [
    "pd.DataFrame(sales.groupby(\"Weekday\")[\"SalesAmount\"].\n",
    "            sum().sort_values()).plot(kind = \"barh\", legend = False,\n",
    "                                     ylabel = \"Sales\", xlabel = \"Days of the Week\",\n",
    "                                     title = \"Total Sales per days\")"
   ]
  },
  {
   "cell_type": "code",
   "execution_count": 72,
   "id": "366e7c91",
   "metadata": {},
   "outputs": [
    {
     "data": {
      "text/plain": [
       "<AxesSubplot:title={'center':'Monthly Sales'}, xlabel='Month', ylabel='Sales'>"
      ]
     },
     "execution_count": 72,
     "metadata": {},
     "output_type": "execute_result"
    },
    {
     "data": {
      "image/png": "[encoded data removed]",
      "text/plain": [
       "<Figure size 432x288 with 1 Axes>"
      ]
     },
     "metadata": {
      "needs_background": "light"
     },
     "output_type": "display_data"
    }
   ],
   "source": [
    "pd.DataFrame(sales.groupby(\"Month\")[\"SalesAmount\"].\n",
    "            sum().sort_values()).plot(kind = \"bar\", legend = False,\n",
    "                                     ylabel = \"Sales\", xlabel = \"Month\",\n",
    "                                     title = \"Monthly Sales\")"
   ]
  },
  {
   "cell_type": "code",
   "execution_count": 77,
   "id": "1ab0dec3",
   "metadata": {},
   "outputs": [
    {
     "data": {
      "text/plain": [
       "<AxesSubplot:title={'center':'Quarterly Sales'}, ylabel='SalesAmount'>"
      ]
     },
     "execution_count": 77,
     "metadata": {},
     "output_type": "execute_result"
    },
    {
     "data": {
      "image/png": "[encoded data removed]",
      "text/plain": [
       "<Figure size 432x288 with 1 Axes>"
      ]
     },
     "metadata": {},
     "output_type": "display_data"
    }
   ],
   "source": [
    "pd.DataFrame(sales.groupby(\"Quarter\")[\"SalesAmount\"].\n",
    "            sum().sort_values()).plot(kind = \"pie\", y = \"SalesAmount\",\n",
    "                                     title = \"Quarterly Sales\")"
   ]
  },
  {
   "cell_type": "code",
   "execution_count": 78,
   "id": "6b645dd6",
   "metadata": {},
   "outputs": [
    {
     "data": {
      "text/plain": [
       "<AxesSubplot:title={'center':'Quarterly Sales'}, xlabel='Quarter', ylabel='Total Sales'>"
      ]
     },
     "execution_count": 78,
     "metadata": {},
     "output_type": "execute_result"
    },
    {
     "data": {
      "image/png": "[encoded data removed]",
      "text/plain": [
       "<Figure size 432x288 with 1 Axes>"
      ]
     },
     "metadata": {
      "needs_background": "light"
     },
     "output_type": "display_data"
    }
   ],
   "source": [
    "pd.DataFrame(sales.groupby(\"Quarter\")[\"SalesAmount\"].\n",
    "            sum().sort_values()).plot(kind = \"bar\", xlabel = \"Quarter\",\n",
    "                                      ylabel = \"Total Sales\", legend = False,\n",
    "                                     title = \"Quarterly Sales\")"
   ]
  },
  {
   "cell_type": "code",
   "execution_count": 79,
   "id": "e96a7466",
   "metadata": {},
   "outputs": [
    {
     "data": {
      "text/html": [
       "<div>\n",
       "<style scoped>\n",
       "    .dataframe tbody tr th:only-of-type {\n",
       "        vertical-align: middle;\n",
       "    }\n",
       "\n",
       "    .dataframe tbody tr th {\n",
       "        vertical-align: top;\n",
       "    }\n",
       "\n",
       "    .dataframe thead th {\n",
       "        text-align: right;\n",
       "    }\n",
       "</style>\n",
       "<table border=\"1\" class=\"dataframe\">\n",
       "  <thead>\n",
       "    <tr style=\"text-align: right;\">\n",
       "      <th></th>\n",
       "      <th>ProductKey</th>\n",
       "      <th>CustomerKey</th>\n",
       "      <th>OrderQuantity</th>\n",
       "      <th>OverallProductCost</th>\n",
       "      <th>SalesAmount</th>\n",
       "      <th>Profit</th>\n",
       "      <th>SalesReason</th>\n",
       "      <th>Continent</th>\n",
       "      <th>Country</th>\n",
       "      <th>Region</th>\n",
       "      <th>OrderDate</th>\n",
       "      <th>Weekday</th>\n",
       "      <th>Month</th>\n",
       "      <th>Quarter</th>\n",
       "      <th>Year</th>\n",
       "    </tr>\n",
       "  </thead>\n",
       "  <tbody>\n",
       "    <tr>\n",
       "      <th>0</th>\n",
       "      <td>310</td>\n",
       "      <td>21768</td>\n",
       "      <td>1</td>\n",
       "      <td>2547.0126</td>\n",
       "      <td>3578.27</td>\n",
       "      <td>1031.2574</td>\n",
       "      <td>Manufacturer</td>\n",
       "      <td>North America</td>\n",
       "      <td>Canada</td>\n",
       "      <td>Canada</td>\n",
       "      <td>12/29/2010</td>\n",
       "      <td>Wednesday</td>\n",
       "      <td>December</td>\n",
       "      <td>4</td>\n",
       "      <td>2010</td>\n",
       "    </tr>\n",
       "    <tr>\n",
       "      <th>1</th>\n",
       "      <td>310</td>\n",
       "      <td>21768</td>\n",
       "      <td>1</td>\n",
       "      <td>2547.0126</td>\n",
       "      <td>3578.27</td>\n",
       "      <td>1031.2574</td>\n",
       "      <td>Quality</td>\n",
       "      <td>North America</td>\n",
       "      <td>Canada</td>\n",
       "      <td>Canada</td>\n",
       "      <td>12/29/2010</td>\n",
       "      <td>Wednesday</td>\n",
       "      <td>December</td>\n",
       "      <td>4</td>\n",
       "      <td>2010</td>\n",
       "    </tr>\n",
       "    <tr>\n",
       "      <th>2</th>\n",
       "      <td>311</td>\n",
       "      <td>27645</td>\n",
       "      <td>1</td>\n",
       "      <td>2547.0126</td>\n",
       "      <td>3578.27</td>\n",
       "      <td>1031.2574</td>\n",
       "      <td>Manufacturer</td>\n",
       "      <td>North America</td>\n",
       "      <td>United States</td>\n",
       "      <td>Southwest</td>\n",
       "      <td>12/30/2010</td>\n",
       "      <td>Thursday</td>\n",
       "      <td>December</td>\n",
       "      <td>4</td>\n",
       "      <td>2010</td>\n",
       "    </tr>\n",
       "    <tr>\n",
       "      <th>3</th>\n",
       "      <td>311</td>\n",
       "      <td>27645</td>\n",
       "      <td>1</td>\n",
       "      <td>2547.0126</td>\n",
       "      <td>3578.27</td>\n",
       "      <td>1031.2574</td>\n",
       "      <td>Quality</td>\n",
       "      <td>North America</td>\n",
       "      <td>United States</td>\n",
       "      <td>Southwest</td>\n",
       "      <td>12/30/2010</td>\n",
       "      <td>Thursday</td>\n",
       "      <td>December</td>\n",
       "      <td>4</td>\n",
       "      <td>2010</td>\n",
       "    </tr>\n",
       "    <tr>\n",
       "      <th>4</th>\n",
       "      <td>310</td>\n",
       "      <td>16624</td>\n",
       "      <td>1</td>\n",
       "      <td>2547.0126</td>\n",
       "      <td>3578.27</td>\n",
       "      <td>1031.2574</td>\n",
       "      <td>Manufacturer</td>\n",
       "      <td>Pacific</td>\n",
       "      <td>Australia</td>\n",
       "      <td>Australia</td>\n",
       "      <td>12/30/2010</td>\n",
       "      <td>Thursday</td>\n",
       "      <td>December</td>\n",
       "      <td>4</td>\n",
       "      <td>2010</td>\n",
       "    </tr>\n",
       "    <tr>\n",
       "      <th>...</th>\n",
       "      <td>...</td>\n",
       "      <td>...</td>\n",
       "      <td>...</td>\n",
       "      <td>...</td>\n",
       "      <td>...</td>\n",
       "      <td>...</td>\n",
       "      <td>...</td>\n",
       "      <td>...</td>\n",
       "      <td>...</td>\n",
       "      <td>...</td>\n",
       "      <td>...</td>\n",
       "      <td>...</td>\n",
       "      <td>...</td>\n",
       "      <td>...</td>\n",
       "      <td>...</td>\n",
       "    </tr>\n",
       "    <tr>\n",
       "      <th>188152</th>\n",
       "      <td>486</td>\n",
       "      <td>18759</td>\n",
       "      <td>1</td>\n",
       "      <td>76.1610</td>\n",
       "      <td>159.00</td>\n",
       "      <td>82.8390</td>\n",
       "      <td>Price</td>\n",
       "      <td>North America</td>\n",
       "      <td>Canada</td>\n",
       "      <td>Canada</td>\n",
       "      <td>1/28/2014</td>\n",
       "      <td>Tuesday</td>\n",
       "      <td>January</td>\n",
       "      <td>1</td>\n",
       "      <td>2014</td>\n",
       "    </tr>\n",
       "    <tr>\n",
       "      <th>188153</th>\n",
       "      <td>225</td>\n",
       "      <td>18759</td>\n",
       "      <td>1</td>\n",
       "      <td>7.8663</td>\n",
       "      <td>8.99</td>\n",
       "      <td>1.1237</td>\n",
       "      <td>Price</td>\n",
       "      <td>North America</td>\n",
       "      <td>Canada</td>\n",
       "      <td>Canada</td>\n",
       "      <td>1/28/2014</td>\n",
       "      <td>Tuesday</td>\n",
       "      <td>January</td>\n",
       "      <td>1</td>\n",
       "      <td>2014</td>\n",
       "    </tr>\n",
       "    <tr>\n",
       "      <th>188154</th>\n",
       "      <td>485</td>\n",
       "      <td>18759</td>\n",
       "      <td>1</td>\n",
       "      <td>10.5284</td>\n",
       "      <td>21.98</td>\n",
       "      <td>11.4516</td>\n",
       "      <td>Price</td>\n",
       "      <td>North America</td>\n",
       "      <td>Canada</td>\n",
       "      <td>Canada</td>\n",
       "      <td>1/28/2014</td>\n",
       "      <td>Tuesday</td>\n",
       "      <td>January</td>\n",
       "      <td>1</td>\n",
       "      <td>2014</td>\n",
       "    </tr>\n",
       "    <tr>\n",
       "      <th>188155</th>\n",
       "      <td>486</td>\n",
       "      <td>18759</td>\n",
       "      <td>1</td>\n",
       "      <td>76.1610</td>\n",
       "      <td>159.00</td>\n",
       "      <td>82.8390</td>\n",
       "      <td>Price</td>\n",
       "      <td>North America</td>\n",
       "      <td>Canada</td>\n",
       "      <td>Canada</td>\n",
       "      <td>1/28/2014</td>\n",
       "      <td>Tuesday</td>\n",
       "      <td>January</td>\n",
       "      <td>1</td>\n",
       "      <td>2014</td>\n",
       "    </tr>\n",
       "    <tr>\n",
       "      <th>188156</th>\n",
       "      <td>225</td>\n",
       "      <td>18759</td>\n",
       "      <td>1</td>\n",
       "      <td>7.8663</td>\n",
       "      <td>8.99</td>\n",
       "      <td>1.1237</td>\n",
       "      <td>Price</td>\n",
       "      <td>North America</td>\n",
       "      <td>Canada</td>\n",
       "      <td>Canada</td>\n",
       "      <td>1/28/2014</td>\n",
       "      <td>Tuesday</td>\n",
       "      <td>January</td>\n",
       "      <td>1</td>\n",
       "      <td>2014</td>\n",
       "    </tr>\n",
       "  </tbody>\n",
       "</table>\n",
       "<p>188157 rows × 15 columns</p>\n",
       "</div>"
      ],
      "text/plain": [
       "        ProductKey  CustomerKey  OrderQuantity  OverallProductCost  \\\n",
       "0              310        21768              1           2547.0126   \n",
       "1              310        21768              1           2547.0126   \n",
       "2              311        27645              1           2547.0126   \n",
       "3              311        27645              1           2547.0126   \n",
       "4              310        16624              1           2547.0126   \n",
       "...            ...          ...            ...                 ...   \n",
       "188152         486        18759              1             76.1610   \n",
       "188153         225        18759              1              7.8663   \n",
       "188154         485        18759              1             10.5284   \n",
       "188155         486        18759              1             76.1610   \n",
       "188156         225        18759              1              7.8663   \n",
       "\n",
       "        SalesAmount     Profit   SalesReason      Continent        Country  \\\n",
       "0           3578.27  1031.2574  Manufacturer  North America         Canada   \n",
       "1           3578.27  1031.2574       Quality  North America         Canada   \n",
       "2           3578.27  1031.2574  Manufacturer  North America  United States   \n",
       "3           3578.27  1031.2574       Quality  North America  United States   \n",
       "4           3578.27  1031.2574  Manufacturer        Pacific      Australia   \n",
       "...             ...        ...           ...            ...            ...   \n",
       "188152       159.00    82.8390         Price  North America         Canada   \n",
       "188153         8.99     1.1237         Price  North America         Canada   \n",
       "188154        21.98    11.4516         Price  North America         Canada   \n",
       "188155       159.00    82.8390         Price  North America         Canada   \n",
       "188156         8.99     1.1237         Price  North America         Canada   \n",
       "\n",
       "           Region   OrderDate    Weekday     Month Quarter  Year  \n",
       "0          Canada  12/29/2010  Wednesday  December       4  2010  \n",
       "1          Canada  12/29/2010  Wednesday  December       4  2010  \n",
       "2       Southwest  12/30/2010   Thursday  December       4  2010  \n",
       "3       Southwest  12/30/2010   Thursday  December       4  2010  \n",
       "4       Australia  12/30/2010   Thursday  December       4  2010  \n",
       "...           ...         ...        ...       ...     ...   ...  \n",
       "188152     Canada   1/28/2014    Tuesday   January       1  2014  \n",
       "188153     Canada   1/28/2014    Tuesday   January       1  2014  \n",
       "188154     Canada   1/28/2014    Tuesday   January       1  2014  \n",
       "188155     Canada   1/28/2014    Tuesday   January       1  2014  \n",
       "188156     Canada   1/28/2014    Tuesday   January       1  2014  \n",
       "\n",
       "[188157 rows x 15 columns]"
      ]
     },
     "execution_count": 79,
     "metadata": {},
     "output_type": "execute_result"
    }
   ],
   "source": [
    "sales"
   ]
  },
  {
   "cell_type": "code",
   "execution_count": 121,
   "id": "d376a3bb",
   "metadata": {},
   "outputs": [
    {
     "data": {
      "text/plain": [
       "SalesAmount           6.415796e+07\n",
       "OverallProductCost    4.429998e+07\n",
       "Profit                1.985798e+07\n",
       "OrderQuantity         1.881570e+05\n",
       "dtype: float64"
      ]
     },
     "execution_count": 121,
     "metadata": {},
     "output_type": "execute_result"
    }
   ],
   "source": [
    "sales[[\"SalesAmount\", \"OverallProductCost\", \"Profit\", \"OrderQuantity\"]].sum()"
   ]
  },
  {
   "cell_type": "code",
   "execution_count": 82,
   "id": "9fdb5708",
   "metadata": {},
   "outputs": [],
   "source": [
    "#importing the products table\n",
    "products = pd.read_csv(\"Products.csv\")"
   ]
  },
  {
   "cell_type": "code",
   "execution_count": 83,
   "id": "dc6f6d9b",
   "metadata": {},
   "outputs": [
    {
     "data": {
      "text/html": [
       "<div>\n",
       "<style scoped>\n",
       "    .dataframe tbody tr th:only-of-type {\n",
       "        vertical-align: middle;\n",
       "    }\n",
       "\n",
       "    .dataframe tbody tr th {\n",
       "        vertical-align: top;\n",
       "    }\n",
       "\n",
       "    .dataframe thead th {\n",
       "        text-align: right;\n",
       "    }\n",
       "</style>\n",
       "<table border=\"1\" class=\"dataframe\">\n",
       "  <thead>\n",
       "    <tr style=\"text-align: right;\">\n",
       "      <th></th>\n",
       "      <th>ProductKey</th>\n",
       "      <th>ProductSubcategoryKey</th>\n",
       "      <th>ProductCategoryKey</th>\n",
       "      <th>ProductName</th>\n",
       "      <th>ProductCategory</th>\n",
       "      <th>ProductSubcategory</th>\n",
       "      <th>StandardCost</th>\n",
       "      <th>FinishedGoodsFlag</th>\n",
       "      <th>DaysToManufacture</th>\n",
       "      <th>ProductLine</th>\n",
       "    </tr>\n",
       "  </thead>\n",
       "  <tbody>\n",
       "    <tr>\n",
       "      <th>0</th>\n",
       "      <td>212</td>\n",
       "      <td>31</td>\n",
       "      <td>4</td>\n",
       "      <td>Sport-100 Helmet, Red</td>\n",
       "      <td>Accessories</td>\n",
       "      <td>Helmets</td>\n",
       "      <td>12.0278</td>\n",
       "      <td>Yes</td>\n",
       "      <td>0</td>\n",
       "      <td>Sports</td>\n",
       "    </tr>\n",
       "    <tr>\n",
       "      <th>1</th>\n",
       "      <td>213</td>\n",
       "      <td>31</td>\n",
       "      <td>4</td>\n",
       "      <td>Sport-100 Helmet, Red</td>\n",
       "      <td>Accessories</td>\n",
       "      <td>Helmets</td>\n",
       "      <td>13.8782</td>\n",
       "      <td>Yes</td>\n",
       "      <td>0</td>\n",
       "      <td>Sports</td>\n",
       "    </tr>\n",
       "    <tr>\n",
       "      <th>2</th>\n",
       "      <td>214</td>\n",
       "      <td>31</td>\n",
       "      <td>4</td>\n",
       "      <td>Sport-100 Helmet, Red</td>\n",
       "      <td>Accessories</td>\n",
       "      <td>Helmets</td>\n",
       "      <td>13.0863</td>\n",
       "      <td>Yes</td>\n",
       "      <td>0</td>\n",
       "      <td>Sports</td>\n",
       "    </tr>\n",
       "    <tr>\n",
       "      <th>3</th>\n",
       "      <td>215</td>\n",
       "      <td>31</td>\n",
       "      <td>4</td>\n",
       "      <td>Sport-100 Helmet, Black</td>\n",
       "      <td>Accessories</td>\n",
       "      <td>Helmets</td>\n",
       "      <td>12.0278</td>\n",
       "      <td>Yes</td>\n",
       "      <td>0</td>\n",
       "      <td>Sports</td>\n",
       "    </tr>\n",
       "    <tr>\n",
       "      <th>4</th>\n",
       "      <td>216</td>\n",
       "      <td>31</td>\n",
       "      <td>4</td>\n",
       "      <td>Sport-100 Helmet, Black</td>\n",
       "      <td>Accessories</td>\n",
       "      <td>Helmets</td>\n",
       "      <td>13.8782</td>\n",
       "      <td>Yes</td>\n",
       "      <td>0</td>\n",
       "      <td>Sports</td>\n",
       "    </tr>\n",
       "  </tbody>\n",
       "</table>\n",
       "</div>"
      ],
      "text/plain": [
       "   ProductKey  ProductSubcategoryKey  ProductCategoryKey  \\\n",
       "0         212                     31                   4   \n",
       "1         213                     31                   4   \n",
       "2         214                     31                   4   \n",
       "3         215                     31                   4   \n",
       "4         216                     31                   4   \n",
       "\n",
       "               ProductName ProductCategory ProductSubcategory  StandardCost  \\\n",
       "0    Sport-100 Helmet, Red     Accessories            Helmets       12.0278   \n",
       "1    Sport-100 Helmet, Red     Accessories            Helmets       13.8782   \n",
       "2    Sport-100 Helmet, Red     Accessories            Helmets       13.0863   \n",
       "3  Sport-100 Helmet, Black     Accessories            Helmets       12.0278   \n",
       "4  Sport-100 Helmet, Black     Accessories            Helmets       13.8782   \n",
       "\n",
       "  FinishedGoodsFlag  DaysToManufacture ProductLine  \n",
       "0               Yes                  0     Sports   \n",
       "1               Yes                  0     Sports   \n",
       "2               Yes                  0     Sports   \n",
       "3               Yes                  0     Sports   \n",
       "4               Yes                  0     Sports   "
      ]
     },
     "execution_count": 83,
     "metadata": {},
     "output_type": "execute_result"
    }
   ],
   "source": [
    "products.head()"
   ]
  },
  {
   "cell_type": "code",
   "execution_count": 84,
   "id": "fc04bc6d",
   "metadata": {},
   "outputs": [
    {
     "data": {
      "text/plain": [
       "(378, 10)"
      ]
     },
     "execution_count": 84,
     "metadata": {},
     "output_type": "execute_result"
    }
   ],
   "source": [
    "products.shape"
   ]
  },
  {
   "cell_type": "code",
   "execution_count": 85,
   "id": "34f7ab23",
   "metadata": {},
   "outputs": [
    {
     "name": "stdout",
     "output_type": "stream",
     "text": [
      "<class 'pandas.core.frame.DataFrame'>\n",
      "RangeIndex: 378 entries, 0 to 377\n",
      "Data columns (total 10 columns):\n",
      " #   Column                 Non-Null Count  Dtype  \n",
      "---  ------                 --------------  -----  \n",
      " 0   ProductKey             378 non-null    int64  \n",
      " 1   ProductSubcategoryKey  378 non-null    int64  \n",
      " 2   ProductCategoryKey     378 non-null    int64  \n",
      " 3   ProductName            378 non-null    object \n",
      " 4   ProductCategory        378 non-null    object \n",
      " 5   ProductSubcategory     378 non-null    object \n",
      " 6   StandardCost           378 non-null    float64\n",
      " 7   FinishedGoodsFlag      378 non-null    object \n",
      " 8   DaysToManufacture      378 non-null    int64  \n",
      " 9   ProductLine            378 non-null    object \n",
      "dtypes: float64(1), int64(4), object(5)\n",
      "memory usage: 29.7+ KB\n"
     ]
    }
   ],
   "source": [
    "products.info()"
   ]
  },
  {
   "cell_type": "code",
   "execution_count": 87,
   "id": "70d449a1",
   "metadata": {},
   "outputs": [
    {
     "data": {
      "text/plain": [
       "ProductKey               0\n",
       "ProductSubcategoryKey    0\n",
       "ProductCategoryKey       0\n",
       "ProductName              0\n",
       "ProductCategory          0\n",
       "ProductSubcategory       0\n",
       "StandardCost             0\n",
       "FinishedGoodsFlag        0\n",
       "DaysToManufacture        0\n",
       "ProductLine              0\n",
       "dtype: int64"
      ]
     },
     "execution_count": 87,
     "metadata": {},
     "output_type": "execute_result"
    }
   ],
   "source": [
    "products.isna().sum()"
   ]
  },
  {
   "cell_type": "code",
   "execution_count": 88,
   "id": "993985d6",
   "metadata": {},
   "outputs": [],
   "source": [
    "#dropping columns\n",
    "products.drop(columns = [\"ProductSubcategoryKey\", \"ProductCategoryKey\", \"FinishedGoodsFlag\"], inplace = True)"
   ]
  },
  {
   "cell_type": "code",
   "execution_count": 89,
   "id": "0aa98431",
   "metadata": {},
   "outputs": [
    {
     "data": {
      "text/html": [
       "<div>\n",
       "<style scoped>\n",
       "    .dataframe tbody tr th:only-of-type {\n",
       "        vertical-align: middle;\n",
       "    }\n",
       "\n",
       "    .dataframe tbody tr th {\n",
       "        vertical-align: top;\n",
       "    }\n",
       "\n",
       "    .dataframe thead th {\n",
       "        text-align: right;\n",
       "    }\n",
       "</style>\n",
       "<table border=\"1\" class=\"dataframe\">\n",
       "  <thead>\n",
       "    <tr style=\"text-align: right;\">\n",
       "      <th></th>\n",
       "      <th>ProductKey</th>\n",
       "      <th>ProductName</th>\n",
       "      <th>ProductCategory</th>\n",
       "      <th>ProductSubcategory</th>\n",
       "      <th>StandardCost</th>\n",
       "      <th>DaysToManufacture</th>\n",
       "      <th>ProductLine</th>\n",
       "    </tr>\n",
       "  </thead>\n",
       "  <tbody>\n",
       "    <tr>\n",
       "      <th>0</th>\n",
       "      <td>212</td>\n",
       "      <td>Sport-100 Helmet, Red</td>\n",
       "      <td>Accessories</td>\n",
       "      <td>Helmets</td>\n",
       "      <td>12.0278</td>\n",
       "      <td>0</td>\n",
       "      <td>Sports</td>\n",
       "    </tr>\n",
       "    <tr>\n",
       "      <th>1</th>\n",
       "      <td>213</td>\n",
       "      <td>Sport-100 Helmet, Red</td>\n",
       "      <td>Accessories</td>\n",
       "      <td>Helmets</td>\n",
       "      <td>13.8782</td>\n",
       "      <td>0</td>\n",
       "      <td>Sports</td>\n",
       "    </tr>\n",
       "    <tr>\n",
       "      <th>2</th>\n",
       "      <td>214</td>\n",
       "      <td>Sport-100 Helmet, Red</td>\n",
       "      <td>Accessories</td>\n",
       "      <td>Helmets</td>\n",
       "      <td>13.0863</td>\n",
       "      <td>0</td>\n",
       "      <td>Sports</td>\n",
       "    </tr>\n",
       "    <tr>\n",
       "      <th>3</th>\n",
       "      <td>215</td>\n",
       "      <td>Sport-100 Helmet, Black</td>\n",
       "      <td>Accessories</td>\n",
       "      <td>Helmets</td>\n",
       "      <td>12.0278</td>\n",
       "      <td>0</td>\n",
       "      <td>Sports</td>\n",
       "    </tr>\n",
       "    <tr>\n",
       "      <th>4</th>\n",
       "      <td>216</td>\n",
       "      <td>Sport-100 Helmet, Black</td>\n",
       "      <td>Accessories</td>\n",
       "      <td>Helmets</td>\n",
       "      <td>13.8782</td>\n",
       "      <td>0</td>\n",
       "      <td>Sports</td>\n",
       "    </tr>\n",
       "    <tr>\n",
       "      <th>...</th>\n",
       "      <td>...</td>\n",
       "      <td>...</td>\n",
       "      <td>...</td>\n",
       "      <td>...</td>\n",
       "      <td>...</td>\n",
       "      <td>...</td>\n",
       "      <td>...</td>\n",
       "    </tr>\n",
       "    <tr>\n",
       "      <th>373</th>\n",
       "      <td>599</td>\n",
       "      <td>Mountain-500 Black, 48</td>\n",
       "      <td>Bikes</td>\n",
       "      <td>Mountain Bikes</td>\n",
       "      <td>294.5797</td>\n",
       "      <td>4</td>\n",
       "      <td>Mountain</td>\n",
       "    </tr>\n",
       "    <tr>\n",
       "      <th>374</th>\n",
       "      <td>600</td>\n",
       "      <td>Mountain-500 Black, 52</td>\n",
       "      <td>Bikes</td>\n",
       "      <td>Mountain Bikes</td>\n",
       "      <td>294.5797</td>\n",
       "      <td>4</td>\n",
       "      <td>Mountain</td>\n",
       "    </tr>\n",
       "    <tr>\n",
       "      <th>375</th>\n",
       "      <td>604</td>\n",
       "      <td>Road-750 Black, 44</td>\n",
       "      <td>Bikes</td>\n",
       "      <td>Road Bikes</td>\n",
       "      <td>343.6496</td>\n",
       "      <td>4</td>\n",
       "      <td>Road</td>\n",
       "    </tr>\n",
       "    <tr>\n",
       "      <th>376</th>\n",
       "      <td>605</td>\n",
       "      <td>Road-750 Black, 48</td>\n",
       "      <td>Bikes</td>\n",
       "      <td>Road Bikes</td>\n",
       "      <td>343.6496</td>\n",
       "      <td>4</td>\n",
       "      <td>Road</td>\n",
       "    </tr>\n",
       "    <tr>\n",
       "      <th>377</th>\n",
       "      <td>606</td>\n",
       "      <td>Road-750 Black, 52</td>\n",
       "      <td>Bikes</td>\n",
       "      <td>Road Bikes</td>\n",
       "      <td>343.6496</td>\n",
       "      <td>4</td>\n",
       "      <td>Road</td>\n",
       "    </tr>\n",
       "  </tbody>\n",
       "</table>\n",
       "<p>378 rows × 7 columns</p>\n",
       "</div>"
      ],
      "text/plain": [
       "     ProductKey              ProductName ProductCategory ProductSubcategory  \\\n",
       "0           212    Sport-100 Helmet, Red     Accessories            Helmets   \n",
       "1           213    Sport-100 Helmet, Red     Accessories            Helmets   \n",
       "2           214    Sport-100 Helmet, Red     Accessories            Helmets   \n",
       "3           215  Sport-100 Helmet, Black     Accessories            Helmets   \n",
       "4           216  Sport-100 Helmet, Black     Accessories            Helmets   \n",
       "..          ...                      ...             ...                ...   \n",
       "373         599   Mountain-500 Black, 48           Bikes     Mountain Bikes   \n",
       "374         600   Mountain-500 Black, 52           Bikes     Mountain Bikes   \n",
       "375         604       Road-750 Black, 44           Bikes         Road Bikes   \n",
       "376         605       Road-750 Black, 48           Bikes         Road Bikes   \n",
       "377         606       Road-750 Black, 52           Bikes         Road Bikes   \n",
       "\n",
       "     StandardCost  DaysToManufacture ProductLine  \n",
       "0         12.0278                  0     Sports   \n",
       "1         13.8782                  0     Sports   \n",
       "2         13.0863                  0     Sports   \n",
       "3         12.0278                  0     Sports   \n",
       "4         13.8782                  0     Sports   \n",
       "..            ...                ...         ...  \n",
       "373      294.5797                  4   Mountain   \n",
       "374      294.5797                  4   Mountain   \n",
       "375      343.6496                  4        Road  \n",
       "376      343.6496                  4        Road  \n",
       "377      343.6496                  4        Road  \n",
       "\n",
       "[378 rows x 7 columns]"
      ]
     },
     "execution_count": 89,
     "metadata": {},
     "output_type": "execute_result"
    }
   ],
   "source": [
    "products"
   ]
  },
  {
   "cell_type": "code",
   "execution_count": 101,
   "id": "a213e4c8",
   "metadata": {},
   "outputs": [
    {
     "data": {
      "text/html": [
       "<div>\n",
       "<style scoped>\n",
       "    .dataframe tbody tr th:only-of-type {\n",
       "        vertical-align: middle;\n",
       "    }\n",
       "\n",
       "    .dataframe tbody tr th {\n",
       "        vertical-align: top;\n",
       "    }\n",
       "\n",
       "    .dataframe thead th {\n",
       "        text-align: right;\n",
       "    }\n",
       "</style>\n",
       "<table border=\"1\" class=\"dataframe\">\n",
       "  <thead>\n",
       "    <tr style=\"text-align: right;\">\n",
       "      <th></th>\n",
       "      <th>ProductKey</th>\n",
       "      <th>StandardCost</th>\n",
       "    </tr>\n",
       "  </thead>\n",
       "  <tbody>\n",
       "    <tr>\n",
       "      <th>count</th>\n",
       "      <td>378.000000</td>\n",
       "      <td>378.000000</td>\n",
       "    </tr>\n",
       "    <tr>\n",
       "      <th>mean</th>\n",
       "      <td>404.857143</td>\n",
       "      <td>451.007441</td>\n",
       "    </tr>\n",
       "    <tr>\n",
       "      <th>std</th>\n",
       "      <td>113.617002</td>\n",
       "      <td>501.937676</td>\n",
       "    </tr>\n",
       "    <tr>\n",
       "      <th>min</th>\n",
       "      <td>212.000000</td>\n",
       "      <td>0.856500</td>\n",
       "    </tr>\n",
       "    <tr>\n",
       "      <th>25%</th>\n",
       "      <td>306.250000</td>\n",
       "      <td>36.249925</td>\n",
       "    </tr>\n",
       "    <tr>\n",
       "      <th>50%</th>\n",
       "      <td>406.500000</td>\n",
       "      <td>294.579700</td>\n",
       "    </tr>\n",
       "    <tr>\n",
       "      <th>75%</th>\n",
       "      <td>501.500000</td>\n",
       "      <td>704.881450</td>\n",
       "    </tr>\n",
       "    <tr>\n",
       "      <th>max</th>\n",
       "      <td>606.000000</td>\n",
       "      <td>2171.294200</td>\n",
       "    </tr>\n",
       "  </tbody>\n",
       "</table>\n",
       "</div>"
      ],
      "text/plain": [
       "       ProductKey  StandardCost\n",
       "count  378.000000    378.000000\n",
       "mean   404.857143    451.007441\n",
       "std    113.617002    501.937676\n",
       "min    212.000000      0.856500\n",
       "25%    306.250000     36.249925\n",
       "50%    406.500000    294.579700\n",
       "75%    501.500000    704.881450\n",
       "max    606.000000   2171.294200"
      ]
     },
     "execution_count": 101,
     "metadata": {},
     "output_type": "execute_result"
    }
   ],
   "source": [
    "products.describe()"
   ]
  },
  {
   "cell_type": "code",
   "execution_count": 91,
   "id": "2e7f8dd4",
   "metadata": {},
   "outputs": [
    {
     "data": {
      "text/plain": [
       "<AxesSubplot:>"
      ]
     },
     "execution_count": 91,
     "metadata": {},
     "output_type": "execute_result"
    },
    {
     "data": {
      "image/png": "[encoded data removed]",
      "text/plain": [
       "<Figure size 432x288 with 1 Axes>"
      ]
     },
     "metadata": {
      "needs_background": "light"
     },
     "output_type": "display_data"
    }
   ],
   "source": [
    "products[\"DaysToManufacture\"] = products[\"DaysToManufacture\"].astype(str)\n",
    "products[\"DaysToManufacture\"].hist()"
   ]
  },
  {
   "cell_type": "code",
   "execution_count": 100,
   "id": "d8100753",
   "metadata": {},
   "outputs": [
    {
     "data": {
      "text/plain": [
       "Text(0.5, 1.0, 'Histogram of Standard Cost of Products')"
      ]
     },
     "execution_count": 100,
     "metadata": {},
     "output_type": "execute_result"
    },
    {
     "data": {
      "image/png": "[encoded data removed]",
      "text/plain": [
       "<Figure size 432x288 with 1 Axes>"
      ]
     },
     "metadata": {
      "needs_background": "light"
     },
     "output_type": "display_data"
    }
   ],
   "source": [
    "products[\"StandardCost\"].hist()\n",
    "plt.title(\"Histogram of Standard Cost of Products\")\n",
    "plt.xlabel(\"Standard Cost of Products\")"
   ]
  },
  {
   "cell_type": "code",
   "execution_count": 99,
   "id": "7c31f479",
   "metadata": {},
   "outputs": [
    {
     "data": {
      "text/plain": [
       "Text(0.5, 1.0, 'Spread of Cost of Products')"
      ]
     },
     "execution_count": 99,
     "metadata": {},
     "output_type": "execute_result"
    },
    {
     "data": {
      "image/png": "[encoded data removed]",
      "text/plain": [
       "<Figure size 432x288 with 1 Axes>"
      ]
     },
     "metadata": {
      "needs_background": "light"
     },
     "output_type": "display_data"
    }
   ],
   "source": [
    "plt.boxplot(products[\"StandardCost\"], vert = False);\n",
    "plt.title(\"Spread of Cost of Products\")\n",
    "plt.xlable(\"Cost of Products\")\n",
    "\n",
    "#The plot shows that there are some outliers"
   ]
  },
  {
   "cell_type": "code",
   "execution_count": 106,
   "id": "3e98b026",
   "metadata": {},
   "outputs": [
    {
     "data": {
      "text/plain": [
       "array(['Sports ', 'Mountain ', 'Road', 'Touring '], dtype=object)"
      ]
     },
     "execution_count": 106,
     "metadata": {},
     "output_type": "execute_result"
    }
   ],
   "source": [
    "products[\"ProductLine\"].unique()"
   ]
  },
  {
   "cell_type": "code",
   "execution_count": 107,
   "id": "e9d43efc",
   "metadata": {},
   "outputs": [
    {
     "data": {
      "text/plain": [
       "array(['Accessories', 'Clothing', 'Components', 'Bikes'], dtype=object)"
      ]
     },
     "execution_count": 107,
     "metadata": {},
     "output_type": "execute_result"
    }
   ],
   "source": [
    "products[\"ProductCategory\"].unique()"
   ]
  },
  {
   "cell_type": "code",
   "execution_count": 113,
   "id": "7633c381",
   "metadata": {},
   "outputs": [
    {
     "data": {
      "text/plain": [
       "<AxesSubplot:ylabel='ProductLine'>"
      ]
     },
     "execution_count": 113,
     "metadata": {},
     "output_type": "execute_result"
    },
    {
     "data": {
      "image/png": "[encoded data removed]",
      "text/plain": [
       "<Figure size 432x288 with 1 Axes>"
      ]
     },
     "metadata": {},
     "output_type": "display_data"
    }
   ],
   "source": [
    "#Distribution of Products in different product lines\n",
    "products[\"ProductLine\"].value_counts().plot(kind = \"pie\")"
   ]
  },
  {
   "cell_type": "code",
   "execution_count": 114,
   "id": "0bea906e",
   "metadata": {},
   "outputs": [
    {
     "data": {
      "text/plain": [
       "<AxesSubplot:ylabel='ProductCategory'>"
      ]
     },
     "execution_count": 114,
     "metadata": {},
     "output_type": "execute_result"
    },
    {
     "data": {
      "image/png": "[encoded data removed]",
      "text/plain": [
       "<Figure size 432x288 with 1 Axes>"
      ]
     },
     "metadata": {},
     "output_type": "display_data"
    }
   ],
   "source": [
    "#Distribution of Products in different product category\n",
    "products[\"ProductCategory\"].value_counts().plot(kind = \"pie\")"
   ]
  },
  {
   "cell_type": "code",
   "execution_count": 117,
   "id": "dfac5229",
   "metadata": {},
   "outputs": [
    {
     "data": {
      "text/html": [
       "<div>\n",
       "<style scoped>\n",
       "    .dataframe tbody tr th:only-of-type {\n",
       "        vertical-align: middle;\n",
       "    }\n",
       "\n",
       "    .dataframe tbody tr th {\n",
       "        vertical-align: top;\n",
       "    }\n",
       "\n",
       "    .dataframe thead th {\n",
       "        text-align: right;\n",
       "    }\n",
       "</style>\n",
       "<table border=\"1\" class=\"dataframe\">\n",
       "  <thead>\n",
       "    <tr style=\"text-align: right;\">\n",
       "      <th></th>\n",
       "      <th>ProductKey</th>\n",
       "      <th>CustomerKey</th>\n",
       "      <th>OrderQuantity</th>\n",
       "      <th>OverallProductCost</th>\n",
       "      <th>SalesAmount</th>\n",
       "      <th>Profit</th>\n",
       "      <th>SalesReason</th>\n",
       "      <th>Continent</th>\n",
       "      <th>Country</th>\n",
       "      <th>Region</th>\n",
       "      <th>...</th>\n",
       "      <th>Weekday</th>\n",
       "      <th>Month</th>\n",
       "      <th>Quarter</th>\n",
       "      <th>Year</th>\n",
       "      <th>ProductName</th>\n",
       "      <th>ProductCategory</th>\n",
       "      <th>ProductSubcategory</th>\n",
       "      <th>StandardCost</th>\n",
       "      <th>DaysToManufacture</th>\n",
       "      <th>ProductLine</th>\n",
       "    </tr>\n",
       "  </thead>\n",
       "  <tbody>\n",
       "    <tr>\n",
       "      <th>0</th>\n",
       "      <td>310</td>\n",
       "      <td>21768</td>\n",
       "      <td>1</td>\n",
       "      <td>2547.0126</td>\n",
       "      <td>3578.27</td>\n",
       "      <td>1031.2574</td>\n",
       "      <td>Manufacturer</td>\n",
       "      <td>North America</td>\n",
       "      <td>Canada</td>\n",
       "      <td>Canada</td>\n",
       "      <td>...</td>\n",
       "      <td>Wednesday</td>\n",
       "      <td>December</td>\n",
       "      <td>4</td>\n",
       "      <td>2010</td>\n",
       "      <td>Road-150 Red, 62</td>\n",
       "      <td>Bikes</td>\n",
       "      <td>Road Bikes</td>\n",
       "      <td>2171.2942</td>\n",
       "      <td>4</td>\n",
       "      <td>Road</td>\n",
       "    </tr>\n",
       "    <tr>\n",
       "      <th>1</th>\n",
       "      <td>310</td>\n",
       "      <td>21768</td>\n",
       "      <td>1</td>\n",
       "      <td>2547.0126</td>\n",
       "      <td>3578.27</td>\n",
       "      <td>1031.2574</td>\n",
       "      <td>Quality</td>\n",
       "      <td>North America</td>\n",
       "      <td>Canada</td>\n",
       "      <td>Canada</td>\n",
       "      <td>...</td>\n",
       "      <td>Wednesday</td>\n",
       "      <td>December</td>\n",
       "      <td>4</td>\n",
       "      <td>2010</td>\n",
       "      <td>Road-150 Red, 62</td>\n",
       "      <td>Bikes</td>\n",
       "      <td>Road Bikes</td>\n",
       "      <td>2171.2942</td>\n",
       "      <td>4</td>\n",
       "      <td>Road</td>\n",
       "    </tr>\n",
       "    <tr>\n",
       "      <th>2</th>\n",
       "      <td>310</td>\n",
       "      <td>16624</td>\n",
       "      <td>1</td>\n",
       "      <td>2547.0126</td>\n",
       "      <td>3578.27</td>\n",
       "      <td>1031.2574</td>\n",
       "      <td>Manufacturer</td>\n",
       "      <td>Pacific</td>\n",
       "      <td>Australia</td>\n",
       "      <td>Australia</td>\n",
       "      <td>...</td>\n",
       "      <td>Thursday</td>\n",
       "      <td>December</td>\n",
       "      <td>4</td>\n",
       "      <td>2010</td>\n",
       "      <td>Road-150 Red, 62</td>\n",
       "      <td>Bikes</td>\n",
       "      <td>Road Bikes</td>\n",
       "      <td>2171.2942</td>\n",
       "      <td>4</td>\n",
       "      <td>Road</td>\n",
       "    </tr>\n",
       "    <tr>\n",
       "      <th>3</th>\n",
       "      <td>310</td>\n",
       "      <td>16624</td>\n",
       "      <td>1</td>\n",
       "      <td>2547.0126</td>\n",
       "      <td>3578.27</td>\n",
       "      <td>1031.2574</td>\n",
       "      <td>Quality</td>\n",
       "      <td>Pacific</td>\n",
       "      <td>Australia</td>\n",
       "      <td>Australia</td>\n",
       "      <td>...</td>\n",
       "      <td>Thursday</td>\n",
       "      <td>December</td>\n",
       "      <td>4</td>\n",
       "      <td>2010</td>\n",
       "      <td>Road-150 Red, 62</td>\n",
       "      <td>Bikes</td>\n",
       "      <td>Road Bikes</td>\n",
       "      <td>2171.2942</td>\n",
       "      <td>4</td>\n",
       "      <td>Road</td>\n",
       "    </tr>\n",
       "    <tr>\n",
       "      <th>4</th>\n",
       "      <td>310</td>\n",
       "      <td>27601</td>\n",
       "      <td>1</td>\n",
       "      <td>2547.0126</td>\n",
       "      <td>3578.27</td>\n",
       "      <td>1031.2574</td>\n",
       "      <td>Manufacturer</td>\n",
       "      <td>North America</td>\n",
       "      <td>United States</td>\n",
       "      <td>Southwest</td>\n",
       "      <td>...</td>\n",
       "      <td>Sunday</td>\n",
       "      <td>January</td>\n",
       "      <td>1</td>\n",
       "      <td>2011</td>\n",
       "      <td>Road-150 Red, 62</td>\n",
       "      <td>Bikes</td>\n",
       "      <td>Road Bikes</td>\n",
       "      <td>2171.2942</td>\n",
       "      <td>4</td>\n",
       "      <td>Road</td>\n",
       "    </tr>\n",
       "    <tr>\n",
       "      <th>...</th>\n",
       "      <td>...</td>\n",
       "      <td>...</td>\n",
       "      <td>...</td>\n",
       "      <td>...</td>\n",
       "      <td>...</td>\n",
       "      <td>...</td>\n",
       "      <td>...</td>\n",
       "      <td>...</td>\n",
       "      <td>...</td>\n",
       "      <td>...</td>\n",
       "      <td>...</td>\n",
       "      <td>...</td>\n",
       "      <td>...</td>\n",
       "      <td>...</td>\n",
       "      <td>...</td>\n",
       "      <td>...</td>\n",
       "      <td>...</td>\n",
       "      <td>...</td>\n",
       "      <td>...</td>\n",
       "      <td>...</td>\n",
       "      <td>...</td>\n",
       "    </tr>\n",
       "    <tr>\n",
       "      <th>188152</th>\n",
       "      <td>568</td>\n",
       "      <td>24757</td>\n",
       "      <td>1</td>\n",
       "      <td>539.3916</td>\n",
       "      <td>742.35</td>\n",
       "      <td>202.9584</td>\n",
       "      <td>Other</td>\n",
       "      <td>North America</td>\n",
       "      <td>Canada</td>\n",
       "      <td>Canada</td>\n",
       "      <td>...</td>\n",
       "      <td>Saturday</td>\n",
       "      <td>December</td>\n",
       "      <td>4</td>\n",
       "      <td>2013</td>\n",
       "      <td>Touring-3000 Yellow, 44</td>\n",
       "      <td>Bikes</td>\n",
       "      <td>Touring Bikes</td>\n",
       "      <td>461.4448</td>\n",
       "      <td>4</td>\n",
       "      <td>Touring</td>\n",
       "    </tr>\n",
       "    <tr>\n",
       "      <th>188153</th>\n",
       "      <td>568</td>\n",
       "      <td>24757</td>\n",
       "      <td>1</td>\n",
       "      <td>539.3916</td>\n",
       "      <td>742.35</td>\n",
       "      <td>202.9584</td>\n",
       "      <td>Price</td>\n",
       "      <td>North America</td>\n",
       "      <td>Canada</td>\n",
       "      <td>Canada</td>\n",
       "      <td>...</td>\n",
       "      <td>Saturday</td>\n",
       "      <td>December</td>\n",
       "      <td>4</td>\n",
       "      <td>2013</td>\n",
       "      <td>Touring-3000 Yellow, 44</td>\n",
       "      <td>Bikes</td>\n",
       "      <td>Touring Bikes</td>\n",
       "      <td>461.4448</td>\n",
       "      <td>4</td>\n",
       "      <td>Touring</td>\n",
       "    </tr>\n",
       "    <tr>\n",
       "      <th>188154</th>\n",
       "      <td>568</td>\n",
       "      <td>24757</td>\n",
       "      <td>1</td>\n",
       "      <td>539.3916</td>\n",
       "      <td>742.35</td>\n",
       "      <td>202.9584</td>\n",
       "      <td>Other</td>\n",
       "      <td>North America</td>\n",
       "      <td>Canada</td>\n",
       "      <td>Canada</td>\n",
       "      <td>...</td>\n",
       "      <td>Saturday</td>\n",
       "      <td>December</td>\n",
       "      <td>4</td>\n",
       "      <td>2013</td>\n",
       "      <td>Touring-3000 Yellow, 44</td>\n",
       "      <td>Bikes</td>\n",
       "      <td>Touring Bikes</td>\n",
       "      <td>461.4448</td>\n",
       "      <td>4</td>\n",
       "      <td>Touring</td>\n",
       "    </tr>\n",
       "    <tr>\n",
       "      <th>188155</th>\n",
       "      <td>568</td>\n",
       "      <td>24757</td>\n",
       "      <td>1</td>\n",
       "      <td>539.3916</td>\n",
       "      <td>742.35</td>\n",
       "      <td>202.9584</td>\n",
       "      <td>Price</td>\n",
       "      <td>North America</td>\n",
       "      <td>Canada</td>\n",
       "      <td>Canada</td>\n",
       "      <td>...</td>\n",
       "      <td>Saturday</td>\n",
       "      <td>December</td>\n",
       "      <td>4</td>\n",
       "      <td>2013</td>\n",
       "      <td>Touring-3000 Yellow, 44</td>\n",
       "      <td>Bikes</td>\n",
       "      <td>Touring Bikes</td>\n",
       "      <td>461.4448</td>\n",
       "      <td>4</td>\n",
       "      <td>Touring</td>\n",
       "    </tr>\n",
       "    <tr>\n",
       "      <th>188156</th>\n",
       "      <td>568</td>\n",
       "      <td>24757</td>\n",
       "      <td>1</td>\n",
       "      <td>539.3916</td>\n",
       "      <td>742.35</td>\n",
       "      <td>202.9584</td>\n",
       "      <td>Other</td>\n",
       "      <td>North America</td>\n",
       "      <td>Canada</td>\n",
       "      <td>Canada</td>\n",
       "      <td>...</td>\n",
       "      <td>Saturday</td>\n",
       "      <td>December</td>\n",
       "      <td>4</td>\n",
       "      <td>2013</td>\n",
       "      <td>Touring-3000 Yellow, 44</td>\n",
       "      <td>Bikes</td>\n",
       "      <td>Touring Bikes</td>\n",
       "      <td>461.4448</td>\n",
       "      <td>4</td>\n",
       "      <td>Touring</td>\n",
       "    </tr>\n",
       "  </tbody>\n",
       "</table>\n",
       "<p>188157 rows × 21 columns</p>\n",
       "</div>"
      ],
      "text/plain": [
       "        ProductKey  CustomerKey  OrderQuantity  OverallProductCost  \\\n",
       "0              310        21768              1           2547.0126   \n",
       "1              310        21768              1           2547.0126   \n",
       "2              310        16624              1           2547.0126   \n",
       "3              310        16624              1           2547.0126   \n",
       "4              310        27601              1           2547.0126   \n",
       "...            ...          ...            ...                 ...   \n",
       "188152         568        24757              1            539.3916   \n",
       "188153         568        24757              1            539.3916   \n",
       "188154         568        24757              1            539.3916   \n",
       "188155         568        24757              1            539.3916   \n",
       "188156         568        24757              1            539.3916   \n",
       "\n",
       "        SalesAmount     Profit   SalesReason      Continent        Country  \\\n",
       "0           3578.27  1031.2574  Manufacturer  North America         Canada   \n",
       "1           3578.27  1031.2574       Quality  North America         Canada   \n",
       "2           3578.27  1031.2574  Manufacturer        Pacific      Australia   \n",
       "3           3578.27  1031.2574       Quality        Pacific      Australia   \n",
       "4           3578.27  1031.2574  Manufacturer  North America  United States   \n",
       "...             ...        ...           ...            ...            ...   \n",
       "188152       742.35   202.9584         Other  North America         Canada   \n",
       "188153       742.35   202.9584         Price  North America         Canada   \n",
       "188154       742.35   202.9584         Other  North America         Canada   \n",
       "188155       742.35   202.9584         Price  North America         Canada   \n",
       "188156       742.35   202.9584         Other  North America         Canada   \n",
       "\n",
       "           Region  ...    Weekday     Month Quarter  Year  \\\n",
       "0          Canada  ...  Wednesday  December       4  2010   \n",
       "1          Canada  ...  Wednesday  December       4  2010   \n",
       "2       Australia  ...   Thursday  December       4  2010   \n",
       "3       Australia  ...   Thursday  December       4  2010   \n",
       "4       Southwest  ...     Sunday   January       1  2011   \n",
       "...           ...  ...        ...       ...     ...   ...   \n",
       "188152     Canada  ...   Saturday  December       4  2013   \n",
       "188153     Canada  ...   Saturday  December       4  2013   \n",
       "188154     Canada  ...   Saturday  December       4  2013   \n",
       "188155     Canada  ...   Saturday  December       4  2013   \n",
       "188156     Canada  ...   Saturday  December       4  2013   \n",
       "\n",
       "                    ProductName ProductCategory ProductSubcategory  \\\n",
       "0              Road-150 Red, 62           Bikes         Road Bikes   \n",
       "1              Road-150 Red, 62           Bikes         Road Bikes   \n",
       "2              Road-150 Red, 62           Bikes         Road Bikes   \n",
       "3              Road-150 Red, 62           Bikes         Road Bikes   \n",
       "4              Road-150 Red, 62           Bikes         Road Bikes   \n",
       "...                         ...             ...                ...   \n",
       "188152  Touring-3000 Yellow, 44           Bikes      Touring Bikes   \n",
       "188153  Touring-3000 Yellow, 44           Bikes      Touring Bikes   \n",
       "188154  Touring-3000 Yellow, 44           Bikes      Touring Bikes   \n",
       "188155  Touring-3000 Yellow, 44           Bikes      Touring Bikes   \n",
       "188156  Touring-3000 Yellow, 44           Bikes      Touring Bikes   \n",
       "\n",
       "       StandardCost  DaysToManufacture ProductLine  \n",
       "0         2171.2942                  4        Road  \n",
       "1         2171.2942                  4        Road  \n",
       "2         2171.2942                  4        Road  \n",
       "3         2171.2942                  4        Road  \n",
       "4         2171.2942                  4        Road  \n",
       "...             ...                ...         ...  \n",
       "188152     461.4448                  4    Touring   \n",
       "188153     461.4448                  4    Touring   \n",
       "188154     461.4448                  4    Touring   \n",
       "188155     461.4448                  4    Touring   \n",
       "188156     461.4448                  4    Touring   \n",
       "\n",
       "[188157 rows x 21 columns]"
      ]
     },
     "execution_count": 117,
     "metadata": {},
     "output_type": "execute_result"
    }
   ],
   "source": [
    "product_sales = pd.merge(sales, products)\n",
    "product_sales"
   ]
  },
  {
   "cell_type": "code",
   "execution_count": 120,
   "id": "2c785d7f",
   "metadata": {},
   "outputs": [
    {
     "data": {
      "image/png": "[encoded data removed]",
      "text/plain": [
       "<Figure size 432x288 with 1 Axes>"
      ]
     },
     "metadata": {
      "needs_background": "light"
     },
     "output_type": "display_data"
    }
   ],
   "source": [
    "#Correlation between cost and profit\n",
    "plt.scatter(x= product_sales[\"StandardCost\"], y= product_sales[\"Profit\"])\n",
    "plt.xlabel(\"Standard Cost of Products\")\n",
    "plt.ylabel(\"Profit made on Products\")\n",
    "plt.title(\"Profit vs Standard Cost\");"
   ]
  },
  {
   "cell_type": "code",
   "execution_count": 133,
   "id": "69f3d925",
   "metadata": {},
   "outputs": [
    {
     "data": {
      "text/plain": [
       "<AxesSubplot:title={'center':'Profit and Sales by Product Line'}, xlabel='Product Line', ylabel='Amount'>"
      ]
     },
     "execution_count": 133,
     "metadata": {},
     "output_type": "execute_result"
    },
    {
     "data": {
      "image/png": "[encoded data removed]",
      "text/plain": [
       "<Figure size 432x288 with 1 Axes>"
      ]
     },
     "metadata": {
      "needs_background": "light"
     },
     "output_type": "display_data"
    }
   ],
   "source": [
    "(pd.DataFrame(product_sales.groupby(\"ProductLine\")[[\"SalesAmount\", \"Profit\"]].sum().sort_values(by = \"SalesAmount\"))\n",
    " .plot(kind = \"bar\", xlabel = \"Product Line\", ylabel = \"Amount\", title = \"Profit and Sales by Product Line\"))\n"
   ]
  },
  {
   "cell_type": "code",
   "execution_count": 137,
   "id": "ef9f50f9",
   "metadata": {},
   "outputs": [
    {
     "data": {
      "text/plain": [
       "<AxesSubplot:title={'center':'Total Orders by Product Line'}, xlabel='Product Line', ylabel='Total Orders'>"
      ]
     },
     "execution_count": 137,
     "metadata": {},
     "output_type": "execute_result"
    },
    {
     "data": {
      "image/png": "[encoded data removed]",
      "text/plain": [
       "<Figure size 432x288 with 1 Axes>"
      ]
     },
     "metadata": {
      "needs_background": "light"
     },
     "output_type": "display_data"
    }
   ],
   "source": [
    "(pd.DataFrame(product_sales.groupby(\"ProductLine\")[\"OrderQuantity\"].sum().sort_values()).\n",
    " plot(kind = \"bar\", xlabel = \"Product Line\", ylabel = \"Total Orders\", title = \"Total Orders by Product Line\"))\n"
   ]
  },
  {
   "cell_type": "code",
   "execution_count": 141,
   "id": "bd9a3aa7",
   "metadata": {},
   "outputs": [
    {
     "data": {
      "text/plain": [
       "<AxesSubplot:title={'center':'Total Orders by Product Line'}, ylabel='Total Orders'>"
      ]
     },
     "execution_count": 141,
     "metadata": {},
     "output_type": "execute_result"
    },
    {
     "data": {
      "image/png": "[encoded data removed]",
      "text/plain": [
       "<Figure size 432x288 with 1 Axes>"
      ]
     },
     "metadata": {},
     "output_type": "display_data"
    }
   ],
   "source": [
    "(pd.DataFrame(product_sales.groupby(\"ProductCategory\")[\"OrderQuantity\"].sum().sort_values()).\n",
    " plot(kind = \"pie\", y= \"OrderQuantity\",\n",
    "      xlabel = \"Product Category\", ylabel = \"Total Orders\", \n",
    "      title = \"Total Orders by Product Line\"))"
   ]
  },
  {
   "cell_type": "code",
   "execution_count": 164,
   "id": "8256b6e9",
   "metadata": {},
   "outputs": [
    {
     "data": {
      "image/png": "[encoded data removed]",
      "text/plain": [
       "<Figure size 432x288 with 1 Axes>"
      ]
     },
     "metadata": {
      "needs_background": "light"
     },
     "output_type": "display_data"
    }
   ],
   "source": [
    "product_sales_canada = product_sales[product_sales[\"Country\"]== \"Canada\"]\n",
    "\n",
    "(product_sales_canada.groupby(\"ProductLine\")[\"Profit\"].sum().sort_values().\n",
    " plot(kind = \"bar\", xlabel = \"Product Line\", ylabel = \"Total Profit\", \n",
    " title = \"Total Profit Based on Product Line in Canada\"));"
   ]
  },
  {
   "cell_type": "code",
   "execution_count": 160,
   "id": "5cab0113",
   "metadata": {},
   "outputs": [
    {
     "data": {
      "image/png": "[encoded data removed]",
      "text/plain": [
       "<Figure size 432x288 with 1 Axes>"
      ]
     },
     "metadata": {
      "needs_background": "light"
     },
     "output_type": "display_data"
    }
   ],
   "source": [
    "#reason for sales\n",
    "(sales.groupby(\"SalesReason\")[\"OrderQuantity\"].sum().sort_values(ascending = False).\n",
    "plot(kind = \"barh\", ylabel = \"Total Orders\", xlabel = \"Reason for Order\", title = \"Reason for Sales\"));"
   ]
  },
  {
   "cell_type": "code",
   "execution_count": 169,
   "id": "c05c745f",
   "metadata": {},
   "outputs": [
    {
     "data": {
      "text/html": [
       "<div>\n",
       "<style scoped>\n",
       "    .dataframe tbody tr th:only-of-type {\n",
       "        vertical-align: middle;\n",
       "    }\n",
       "\n",
       "    .dataframe tbody tr th {\n",
       "        vertical-align: top;\n",
       "    }\n",
       "\n",
       "    .dataframe thead th {\n",
       "        text-align: right;\n",
       "    }\n",
       "</style>\n",
       "<table border=\"1\" class=\"dataframe\">\n",
       "  <thead>\n",
       "    <tr style=\"text-align: right;\">\n",
       "      <th></th>\n",
       "      <th>CustomerKey</th>\n",
       "      <th>GeographyKey</th>\n",
       "      <th>FullName</th>\n",
       "      <th>CustomerAge</th>\n",
       "      <th>MaritalStatus</th>\n",
       "      <th>Gender</th>\n",
       "      <th>YearlyIncome</th>\n",
       "      <th>TotalChildren</th>\n",
       "      <th>NumberChildrenAtHome</th>\n",
       "      <th>EnglishEducation</th>\n",
       "      <th>EnglishOccupation</th>\n",
       "      <th>HouseOwner</th>\n",
       "      <th>NumberCarsOwned</th>\n",
       "      <th>DateFirstPurchase</th>\n",
       "      <th>City</th>\n",
       "      <th>StateProvince</th>\n",
       "      <th>Country</th>\n",
       "    </tr>\n",
       "  </thead>\n",
       "  <tbody>\n",
       "    <tr>\n",
       "      <th>0</th>\n",
       "      <td>11000</td>\n",
       "      <td>26</td>\n",
       "      <td>Jon Yang V</td>\n",
       "      <td>53</td>\n",
       "      <td>Married</td>\n",
       "      <td>Male</td>\n",
       "      <td>90000</td>\n",
       "      <td>2</td>\n",
       "      <td>0</td>\n",
       "      <td>Bachelors</td>\n",
       "      <td>Professional</td>\n",
       "      <td>Yes</td>\n",
       "      <td>0</td>\n",
       "      <td>1/19/2011</td>\n",
       "      <td>Rockhampton</td>\n",
       "      <td>Queensland</td>\n",
       "      <td>Australia</td>\n",
       "    </tr>\n",
       "    <tr>\n",
       "      <th>1</th>\n",
       "      <td>11001</td>\n",
       "      <td>37</td>\n",
       "      <td>Eugene Huang L</td>\n",
       "      <td>48</td>\n",
       "      <td>Single</td>\n",
       "      <td>Male</td>\n",
       "      <td>60000</td>\n",
       "      <td>3</td>\n",
       "      <td>3</td>\n",
       "      <td>Bachelors</td>\n",
       "      <td>Professional</td>\n",
       "      <td>No</td>\n",
       "      <td>1</td>\n",
       "      <td>1/15/2011</td>\n",
       "      <td>Seaford</td>\n",
       "      <td>Victoria</td>\n",
       "      <td>Australia</td>\n",
       "    </tr>\n",
       "    <tr>\n",
       "      <th>2</th>\n",
       "      <td>11002</td>\n",
       "      <td>31</td>\n",
       "      <td>Ruben Torres</td>\n",
       "      <td>53</td>\n",
       "      <td>Married</td>\n",
       "      <td>Male</td>\n",
       "      <td>60000</td>\n",
       "      <td>3</td>\n",
       "      <td>3</td>\n",
       "      <td>Bachelors</td>\n",
       "      <td>Professional</td>\n",
       "      <td>Yes</td>\n",
       "      <td>1</td>\n",
       "      <td>1/7/2011</td>\n",
       "      <td>Hobart</td>\n",
       "      <td>Tasmania</td>\n",
       "      <td>Australia</td>\n",
       "    </tr>\n",
       "    <tr>\n",
       "      <th>3</th>\n",
       "      <td>11003</td>\n",
       "      <td>11</td>\n",
       "      <td>Christy Zhu</td>\n",
       "      <td>51</td>\n",
       "      <td>Single</td>\n",
       "      <td>Female</td>\n",
       "      <td>70000</td>\n",
       "      <td>0</td>\n",
       "      <td>0</td>\n",
       "      <td>Bachelors</td>\n",
       "      <td>Professional</td>\n",
       "      <td>No</td>\n",
       "      <td>1</td>\n",
       "      <td>12/29/2010</td>\n",
       "      <td>North Ryde</td>\n",
       "      <td>New South Wales</td>\n",
       "      <td>Australia</td>\n",
       "    </tr>\n",
       "    <tr>\n",
       "      <th>4</th>\n",
       "      <td>11004</td>\n",
       "      <td>19</td>\n",
       "      <td>Elizabeth Johnson</td>\n",
       "      <td>45</td>\n",
       "      <td>Single</td>\n",
       "      <td>Female</td>\n",
       "      <td>80000</td>\n",
       "      <td>5</td>\n",
       "      <td>5</td>\n",
       "      <td>Bachelors</td>\n",
       "      <td>Professional</td>\n",
       "      <td>Yes</td>\n",
       "      <td>4</td>\n",
       "      <td>1/23/2011</td>\n",
       "      <td>Wollongong</td>\n",
       "      <td>New South Wales</td>\n",
       "      <td>Australia</td>\n",
       "    </tr>\n",
       "    <tr>\n",
       "      <th>...</th>\n",
       "      <td>...</td>\n",
       "      <td>...</td>\n",
       "      <td>...</td>\n",
       "      <td>...</td>\n",
       "      <td>...</td>\n",
       "      <td>...</td>\n",
       "      <td>...</td>\n",
       "      <td>...</td>\n",
       "      <td>...</td>\n",
       "      <td>...</td>\n",
       "      <td>...</td>\n",
       "      <td>...</td>\n",
       "      <td>...</td>\n",
       "      <td>...</td>\n",
       "      <td>...</td>\n",
       "      <td>...</td>\n",
       "      <td>...</td>\n",
       "    </tr>\n",
       "    <tr>\n",
       "      <th>18479</th>\n",
       "      <td>29479</td>\n",
       "      <td>209</td>\n",
       "      <td>Tommy Tang L</td>\n",
       "      <td>55</td>\n",
       "      <td>Married</td>\n",
       "      <td>Male</td>\n",
       "      <td>30000</td>\n",
       "      <td>1</td>\n",
       "      <td>0</td>\n",
       "      <td>Graduate Degree</td>\n",
       "      <td>Clerical</td>\n",
       "      <td>Yes</td>\n",
       "      <td>0</td>\n",
       "      <td>9/4/2012</td>\n",
       "      <td>Versailles</td>\n",
       "      <td>Yveline</td>\n",
       "      <td>France</td>\n",
       "    </tr>\n",
       "    <tr>\n",
       "      <th>18480</th>\n",
       "      <td>29480</td>\n",
       "      <td>248</td>\n",
       "      <td>Nina Raji W</td>\n",
       "      <td>47</td>\n",
       "      <td>Single</td>\n",
       "      <td>Female</td>\n",
       "      <td>30000</td>\n",
       "      <td>3</td>\n",
       "      <td>0</td>\n",
       "      <td>Graduate Degree</td>\n",
       "      <td>Clerical</td>\n",
       "      <td>Yes</td>\n",
       "      <td>0</td>\n",
       "      <td>7/17/2013</td>\n",
       "      <td>London</td>\n",
       "      <td>England</td>\n",
       "      <td>United Kingdom</td>\n",
       "    </tr>\n",
       "    <tr>\n",
       "      <th>18481</th>\n",
       "      <td>29481</td>\n",
       "      <td>120</td>\n",
       "      <td>Ivan Suri</td>\n",
       "      <td>59</td>\n",
       "      <td>Single</td>\n",
       "      <td>Male</td>\n",
       "      <td>30000</td>\n",
       "      <td>3</td>\n",
       "      <td>0</td>\n",
       "      <td>Graduate Degree</td>\n",
       "      <td>Clerical</td>\n",
       "      <td>No</td>\n",
       "      <td>0</td>\n",
       "      <td>8/13/2011</td>\n",
       "      <td>Hof</td>\n",
       "      <td>Bayern</td>\n",
       "      <td>Germany</td>\n",
       "    </tr>\n",
       "    <tr>\n",
       "      <th>18482</th>\n",
       "      <td>29482</td>\n",
       "      <td>179</td>\n",
       "      <td>Clayton Zhang</td>\n",
       "      <td>60</td>\n",
       "      <td>Married</td>\n",
       "      <td>Male</td>\n",
       "      <td>30000</td>\n",
       "      <td>3</td>\n",
       "      <td>0</td>\n",
       "      <td>Bachelors</td>\n",
       "      <td>Clerical</td>\n",
       "      <td>Yes</td>\n",
       "      <td>0</td>\n",
       "      <td>9/18/2012</td>\n",
       "      <td>Saint Ouen</td>\n",
       "      <td>Charente-Maritime</td>\n",
       "      <td>France</td>\n",
       "    </tr>\n",
       "    <tr>\n",
       "      <th>18483</th>\n",
       "      <td>29483</td>\n",
       "      <td>217</td>\n",
       "      <td>J‚sus Navarro L</td>\n",
       "      <td>59</td>\n",
       "      <td>Married</td>\n",
       "      <td>Male</td>\n",
       "      <td>30000</td>\n",
       "      <td>0</td>\n",
       "      <td>0</td>\n",
       "      <td>Bachelors</td>\n",
       "      <td>Clerical</td>\n",
       "      <td>Yes</td>\n",
       "      <td>0</td>\n",
       "      <td>9/9/2012</td>\n",
       "      <td>Paris La Defense</td>\n",
       "      <td>Hauts de Seine</td>\n",
       "      <td>France</td>\n",
       "    </tr>\n",
       "  </tbody>\n",
       "</table>\n",
       "<p>18484 rows × 17 columns</p>\n",
       "</div>"
      ],
      "text/plain": [
       "       CustomerKey  GeographyKey              FullName  CustomerAge  \\\n",
       "0            11000            26           Jon Yang V            53   \n",
       "1            11001            37       Eugene Huang L            48   \n",
       "2            11002            31        Ruben Torres             53   \n",
       "3            11003            11         Christy Zhu             51   \n",
       "4            11004            19   Elizabeth Johnson             45   \n",
       "...            ...           ...                   ...          ...   \n",
       "18479        29479           209         Tommy Tang L            55   \n",
       "18480        29480           248          Nina Raji W            47   \n",
       "18481        29481           120           Ivan Suri             59   \n",
       "18482        29482           179       Clayton Zhang             60   \n",
       "18483        29483           217      J‚sus Navarro L            59   \n",
       "\n",
       "      MaritalStatus  Gender  YearlyIncome  TotalChildren  \\\n",
       "0           Married    Male         90000              2   \n",
       "1            Single    Male         60000              3   \n",
       "2           Married    Male         60000              3   \n",
       "3            Single  Female         70000              0   \n",
       "4            Single  Female         80000              5   \n",
       "...             ...     ...           ...            ...   \n",
       "18479       Married    Male         30000              1   \n",
       "18480        Single  Female         30000              3   \n",
       "18481        Single    Male         30000              3   \n",
       "18482       Married    Male         30000              3   \n",
       "18483       Married    Male         30000              0   \n",
       "\n",
       "       NumberChildrenAtHome EnglishEducation EnglishOccupation HouseOwner  \\\n",
       "0                         0        Bachelors      Professional        Yes   \n",
       "1                         3        Bachelors      Professional         No   \n",
       "2                         3        Bachelors      Professional        Yes   \n",
       "3                         0        Bachelors      Professional         No   \n",
       "4                         5        Bachelors      Professional        Yes   \n",
       "...                     ...              ...               ...        ...   \n",
       "18479                     0  Graduate Degree          Clerical        Yes   \n",
       "18480                     0  Graduate Degree          Clerical        Yes   \n",
       "18481                     0  Graduate Degree          Clerical         No   \n",
       "18482                     0        Bachelors          Clerical        Yes   \n",
       "18483                     0        Bachelors          Clerical        Yes   \n",
       "\n",
       "       NumberCarsOwned DateFirstPurchase              City      StateProvince  \\\n",
       "0                    0         1/19/2011       Rockhampton         Queensland   \n",
       "1                    1         1/15/2011           Seaford           Victoria   \n",
       "2                    1          1/7/2011            Hobart           Tasmania   \n",
       "3                    1        12/29/2010        North Ryde    New South Wales   \n",
       "4                    4         1/23/2011        Wollongong    New South Wales   \n",
       "...                ...               ...               ...                ...   \n",
       "18479                0          9/4/2012        Versailles            Yveline   \n",
       "18480                0         7/17/2013            London            England   \n",
       "18481                0         8/13/2011               Hof             Bayern   \n",
       "18482                0         9/18/2012        Saint Ouen  Charente-Maritime   \n",
       "18483                0          9/9/2012  Paris La Defense     Hauts de Seine   \n",
       "\n",
       "              Country  \n",
       "0           Australia  \n",
       "1           Australia  \n",
       "2           Australia  \n",
       "3           Australia  \n",
       "4           Australia  \n",
       "...               ...  \n",
       "18479          France  \n",
       "18480  United Kingdom  \n",
       "18481         Germany  \n",
       "18482          France  \n",
       "18483          France  \n",
       "\n",
       "[18484 rows x 17 columns]"
      ]
     },
     "execution_count": 169,
     "metadata": {},
     "output_type": "execute_result"
    }
   ],
   "source": [
    "#importing the customer table\n",
    "\n",
    "customers = pd.read_csv(\"Customer.csv\")\n",
    "customers"
   ]
  },
  {
   "cell_type": "code",
   "execution_count": 170,
   "id": "5161b65b",
   "metadata": {},
   "outputs": [
    {
     "data": {
      "text/plain": [
       "(18484, 17)"
      ]
     },
     "execution_count": 170,
     "metadata": {},
     "output_type": "execute_result"
    }
   ],
   "source": [
    "customers.shape"
   ]
  },
  {
   "cell_type": "code",
   "execution_count": 171,
   "id": "54ea8d1c",
   "metadata": {},
   "outputs": [
    {
     "name": "stdout",
     "output_type": "stream",
     "text": [
      "<class 'pandas.core.frame.DataFrame'>\n",
      "RangeIndex: 18484 entries, 0 to 18483\n",
      "Data columns (total 17 columns):\n",
      " #   Column                Non-Null Count  Dtype \n",
      "---  ------                --------------  ----- \n",
      " 0   CustomerKey           18484 non-null  int64 \n",
      " 1   GeographyKey          18484 non-null  int64 \n",
      " 2   FullName              18484 non-null  object\n",
      " 3   CustomerAge           18484 non-null  int64 \n",
      " 4   MaritalStatus         18484 non-null  object\n",
      " 5   Gender                18484 non-null  object\n",
      " 6   YearlyIncome          18484 non-null  int64 \n",
      " 7   TotalChildren         18484 non-null  int64 \n",
      " 8   NumberChildrenAtHome  18484 non-null  int64 \n",
      " 9   EnglishEducation      18484 non-null  object\n",
      " 10  EnglishOccupation     18484 non-null  object\n",
      " 11  HouseOwner            18484 non-null  object\n",
      " 12  NumberCarsOwned       18484 non-null  int64 \n",
      " 13  DateFirstPurchase     18484 non-null  object\n",
      " 14  City                  18484 non-null  object\n",
      " 15  StateProvince         18484 non-null  object\n",
      " 16  Country               18484 non-null  object\n",
      "dtypes: int64(7), object(10)\n",
      "memory usage: 2.4+ MB\n"
     ]
    }
   ],
   "source": [
    "customers.info()"
   ]
  },
  {
   "cell_type": "code",
   "execution_count": 172,
   "id": "910a04f8",
   "metadata": {},
   "outputs": [
    {
     "data": {
      "text/html": [
       "<div>\n",
       "<style scoped>\n",
       "    .dataframe tbody tr th:only-of-type {\n",
       "        vertical-align: middle;\n",
       "    }\n",
       "\n",
       "    .dataframe tbody tr th {\n",
       "        vertical-align: top;\n",
       "    }\n",
       "\n",
       "    .dataframe thead th {\n",
       "        text-align: right;\n",
       "    }\n",
       "</style>\n",
       "<table border=\"1\" class=\"dataframe\">\n",
       "  <thead>\n",
       "    <tr style=\"text-align: right;\">\n",
       "      <th></th>\n",
       "      <th>CustomerKey</th>\n",
       "      <th>GeographyKey</th>\n",
       "      <th>FullName</th>\n",
       "      <th>CustomerAge</th>\n",
       "      <th>MaritalStatus</th>\n",
       "      <th>Gender</th>\n",
       "      <th>YearlyIncome</th>\n",
       "      <th>TotalChildren</th>\n",
       "      <th>NumberChildrenAtHome</th>\n",
       "      <th>EnglishEducation</th>\n",
       "      <th>EnglishOccupation</th>\n",
       "      <th>HouseOwner</th>\n",
       "      <th>NumberCarsOwned</th>\n",
       "      <th>DateFirstPurchase</th>\n",
       "      <th>City</th>\n",
       "      <th>StateProvince</th>\n",
       "      <th>Country</th>\n",
       "    </tr>\n",
       "  </thead>\n",
       "  <tbody>\n",
       "    <tr>\n",
       "      <th>0</th>\n",
       "      <td>11000</td>\n",
       "      <td>26</td>\n",
       "      <td>Jon Yang V</td>\n",
       "      <td>53</td>\n",
       "      <td>Married</td>\n",
       "      <td>Male</td>\n",
       "      <td>90000</td>\n",
       "      <td>2</td>\n",
       "      <td>0</td>\n",
       "      <td>Bachelors</td>\n",
       "      <td>Professional</td>\n",
       "      <td>Yes</td>\n",
       "      <td>0</td>\n",
       "      <td>1/19/2011</td>\n",
       "      <td>Rockhampton</td>\n",
       "      <td>Queensland</td>\n",
       "      <td>Australia</td>\n",
       "    </tr>\n",
       "    <tr>\n",
       "      <th>1</th>\n",
       "      <td>11001</td>\n",
       "      <td>37</td>\n",
       "      <td>Eugene Huang L</td>\n",
       "      <td>48</td>\n",
       "      <td>Single</td>\n",
       "      <td>Male</td>\n",
       "      <td>60000</td>\n",
       "      <td>3</td>\n",
       "      <td>3</td>\n",
       "      <td>Bachelors</td>\n",
       "      <td>Professional</td>\n",
       "      <td>No</td>\n",
       "      <td>1</td>\n",
       "      <td>1/15/2011</td>\n",
       "      <td>Seaford</td>\n",
       "      <td>Victoria</td>\n",
       "      <td>Australia</td>\n",
       "    </tr>\n",
       "    <tr>\n",
       "      <th>2</th>\n",
       "      <td>11002</td>\n",
       "      <td>31</td>\n",
       "      <td>Ruben Torres</td>\n",
       "      <td>53</td>\n",
       "      <td>Married</td>\n",
       "      <td>Male</td>\n",
       "      <td>60000</td>\n",
       "      <td>3</td>\n",
       "      <td>3</td>\n",
       "      <td>Bachelors</td>\n",
       "      <td>Professional</td>\n",
       "      <td>Yes</td>\n",
       "      <td>1</td>\n",
       "      <td>1/7/2011</td>\n",
       "      <td>Hobart</td>\n",
       "      <td>Tasmania</td>\n",
       "      <td>Australia</td>\n",
       "    </tr>\n",
       "    <tr>\n",
       "      <th>3</th>\n",
       "      <td>11003</td>\n",
       "      <td>11</td>\n",
       "      <td>Christy Zhu</td>\n",
       "      <td>51</td>\n",
       "      <td>Single</td>\n",
       "      <td>Female</td>\n",
       "      <td>70000</td>\n",
       "      <td>0</td>\n",
       "      <td>0</td>\n",
       "      <td>Bachelors</td>\n",
       "      <td>Professional</td>\n",
       "      <td>No</td>\n",
       "      <td>1</td>\n",
       "      <td>12/29/2010</td>\n",
       "      <td>North Ryde</td>\n",
       "      <td>New South Wales</td>\n",
       "      <td>Australia</td>\n",
       "    </tr>\n",
       "    <tr>\n",
       "      <th>4</th>\n",
       "      <td>11004</td>\n",
       "      <td>19</td>\n",
       "      <td>Elizabeth Johnson</td>\n",
       "      <td>45</td>\n",
       "      <td>Single</td>\n",
       "      <td>Female</td>\n",
       "      <td>80000</td>\n",
       "      <td>5</td>\n",
       "      <td>5</td>\n",
       "      <td>Bachelors</td>\n",
       "      <td>Professional</td>\n",
       "      <td>Yes</td>\n",
       "      <td>4</td>\n",
       "      <td>1/23/2011</td>\n",
       "      <td>Wollongong</td>\n",
       "      <td>New South Wales</td>\n",
       "      <td>Australia</td>\n",
       "    </tr>\n",
       "  </tbody>\n",
       "</table>\n",
       "</div>"
      ],
      "text/plain": [
       "   CustomerKey  GeographyKey              FullName  CustomerAge MaritalStatus  \\\n",
       "0        11000            26           Jon Yang V            53       Married   \n",
       "1        11001            37       Eugene Huang L            48        Single   \n",
       "2        11002            31        Ruben Torres             53       Married   \n",
       "3        11003            11         Christy Zhu             51        Single   \n",
       "4        11004            19   Elizabeth Johnson             45        Single   \n",
       "\n",
       "   Gender  YearlyIncome  TotalChildren  NumberChildrenAtHome EnglishEducation  \\\n",
       "0    Male         90000              2                     0        Bachelors   \n",
       "1    Male         60000              3                     3        Bachelors   \n",
       "2    Male         60000              3                     3        Bachelors   \n",
       "3  Female         70000              0                     0        Bachelors   \n",
       "4  Female         80000              5                     5        Bachelors   \n",
       "\n",
       "  EnglishOccupation HouseOwner  NumberCarsOwned DateFirstPurchase  \\\n",
       "0      Professional        Yes                0         1/19/2011   \n",
       "1      Professional         No                1         1/15/2011   \n",
       "2      Professional        Yes                1          1/7/2011   \n",
       "3      Professional         No                1        12/29/2010   \n",
       "4      Professional        Yes                4         1/23/2011   \n",
       "\n",
       "          City    StateProvince    Country  \n",
       "0  Rockhampton       Queensland  Australia  \n",
       "1      Seaford         Victoria  Australia  \n",
       "2       Hobart         Tasmania  Australia  \n",
       "3   North Ryde  New South Wales  Australia  \n",
       "4   Wollongong  New South Wales  Australia  "
      ]
     },
     "execution_count": 172,
     "metadata": {},
     "output_type": "execute_result"
    }
   ],
   "source": [
    "customers.head()"
   ]
  },
  {
   "cell_type": "code",
   "execution_count": 173,
   "id": "66fda178",
   "metadata": {},
   "outputs": [
    {
     "data": {
      "text/plain": [
       "CustomerKey             0\n",
       "GeographyKey            0\n",
       "FullName                0\n",
       "CustomerAge             0\n",
       "MaritalStatus           0\n",
       "Gender                  0\n",
       "YearlyIncome            0\n",
       "TotalChildren           0\n",
       "NumberChildrenAtHome    0\n",
       "EnglishEducation        0\n",
       "EnglishOccupation       0\n",
       "HouseOwner              0\n",
       "NumberCarsOwned         0\n",
       "DateFirstPurchase       0\n",
       "City                    0\n",
       "StateProvince           0\n",
       "Country                 0\n",
       "dtype: int64"
      ]
     },
     "execution_count": 173,
     "metadata": {},
     "output_type": "execute_result"
    }
   ],
   "source": [
    "#Checking for null values\n",
    "customers.isna().sum()"
   ]
  },
  {
   "cell_type": "code",
   "execution_count": 176,
   "id": "675e0cb6",
   "metadata": {},
   "outputs": [
    {
     "data": {
      "image/png": "[encoded data removed]",
      "text/plain": [
       "<Figure size 432x288 with 1 Axes>"
      ]
     },
     "metadata": {
      "needs_background": "light"
     },
     "output_type": "display_data"
    }
   ],
   "source": [
    "customers[\"CustomerAge\"].hist();\n",
    "plt.xlabel(\"Age\")\n",
    "plt.ylabel(\"Frequency\")\n",
    "plt.title(\"Distribution of CustomerAge\");"
   ]
  },
  {
   "cell_type": "code",
   "execution_count": 178,
   "id": "d1e35e57",
   "metadata": {},
   "outputs": [
    {
     "data": {
      "image/png": "[encoded data removed]",
      "text/plain": [
       "<Figure size 432x288 with 1 Axes>"
      ]
     },
     "metadata": {
      "needs_background": "light"
     },
     "output_type": "display_data"
    }
   ],
   "source": [
    "customers[\"YearlyIncome\"].hist();\n",
    "plt.xlabel(\"Income\")\n",
    "plt.ylabel(\"Frequency\")\n",
    "plt.title(\"Distribution of CustomerAge\");"
   ]
  },
  {
   "cell_type": "code",
   "execution_count": 185,
   "id": "af00a569",
   "metadata": {},
   "outputs": [
    {
     "data": {
      "image/png": "[encoded data removed]",
      "text/plain": [
       "<Figure size 432x288 with 1 Axes>"
      ]
     },
     "metadata": {
      "needs_background": "light"
     },
     "output_type": "display_data"
    }
   ],
   "source": [
    "customers[\"TotalChildren\"].hist();\n",
    "plt.xlabel(\"Number of Children\")\n",
    "plt.ylabel(\"Frequency\")\n",
    "plt.title(\"Distribution of Customers' Number of Children\");"
   ]
  },
  {
   "cell_type": "code",
   "execution_count": 186,
   "id": "ade52c11",
   "metadata": {},
   "outputs": [
    {
     "data": {
      "text/html": [
       "<div>\n",
       "<style scoped>\n",
       "    .dataframe tbody tr th:only-of-type {\n",
       "        vertical-align: middle;\n",
       "    }\n",
       "\n",
       "    .dataframe tbody tr th {\n",
       "        vertical-align: top;\n",
       "    }\n",
       "\n",
       "    .dataframe thead th {\n",
       "        text-align: right;\n",
       "    }\n",
       "</style>\n",
       "<table border=\"1\" class=\"dataframe\">\n",
       "  <thead>\n",
       "    <tr style=\"text-align: right;\">\n",
       "      <th></th>\n",
       "      <th>CustomerKey</th>\n",
       "      <th>GeographyKey</th>\n",
       "      <th>FullName</th>\n",
       "      <th>CustomerAge</th>\n",
       "      <th>MaritalStatus</th>\n",
       "      <th>Gender</th>\n",
       "      <th>YearlyIncome</th>\n",
       "      <th>TotalChildren</th>\n",
       "      <th>NumberChildrenAtHome</th>\n",
       "      <th>EnglishEducation</th>\n",
       "      <th>EnglishOccupation</th>\n",
       "      <th>HouseOwner</th>\n",
       "      <th>NumberCarsOwned</th>\n",
       "      <th>DateFirstPurchase</th>\n",
       "      <th>City</th>\n",
       "      <th>StateProvince</th>\n",
       "      <th>Country</th>\n",
       "    </tr>\n",
       "  </thead>\n",
       "  <tbody>\n",
       "    <tr>\n",
       "      <th>0</th>\n",
       "      <td>11000</td>\n",
       "      <td>26</td>\n",
       "      <td>Jon Yang V</td>\n",
       "      <td>53</td>\n",
       "      <td>Married</td>\n",
       "      <td>Male</td>\n",
       "      <td>90000</td>\n",
       "      <td>2</td>\n",
       "      <td>0</td>\n",
       "      <td>Bachelors</td>\n",
       "      <td>Professional</td>\n",
       "      <td>Yes</td>\n",
       "      <td>0</td>\n",
       "      <td>1/19/2011</td>\n",
       "      <td>Rockhampton</td>\n",
       "      <td>Queensland</td>\n",
       "      <td>Australia</td>\n",
       "    </tr>\n",
       "    <tr>\n",
       "      <th>1</th>\n",
       "      <td>11001</td>\n",
       "      <td>37</td>\n",
       "      <td>Eugene Huang L</td>\n",
       "      <td>48</td>\n",
       "      <td>Single</td>\n",
       "      <td>Male</td>\n",
       "      <td>60000</td>\n",
       "      <td>3</td>\n",
       "      <td>3</td>\n",
       "      <td>Bachelors</td>\n",
       "      <td>Professional</td>\n",
       "      <td>No</td>\n",
       "      <td>1</td>\n",
       "      <td>1/15/2011</td>\n",
       "      <td>Seaford</td>\n",
       "      <td>Victoria</td>\n",
       "      <td>Australia</td>\n",
       "    </tr>\n",
       "    <tr>\n",
       "      <th>2</th>\n",
       "      <td>11002</td>\n",
       "      <td>31</td>\n",
       "      <td>Ruben Torres</td>\n",
       "      <td>53</td>\n",
       "      <td>Married</td>\n",
       "      <td>Male</td>\n",
       "      <td>60000</td>\n",
       "      <td>3</td>\n",
       "      <td>3</td>\n",
       "      <td>Bachelors</td>\n",
       "      <td>Professional</td>\n",
       "      <td>Yes</td>\n",
       "      <td>1</td>\n",
       "      <td>1/7/2011</td>\n",
       "      <td>Hobart</td>\n",
       "      <td>Tasmania</td>\n",
       "      <td>Australia</td>\n",
       "    </tr>\n",
       "    <tr>\n",
       "      <th>3</th>\n",
       "      <td>11003</td>\n",
       "      <td>11</td>\n",
       "      <td>Christy Zhu</td>\n",
       "      <td>51</td>\n",
       "      <td>Single</td>\n",
       "      <td>Female</td>\n",
       "      <td>70000</td>\n",
       "      <td>0</td>\n",
       "      <td>0</td>\n",
       "      <td>Bachelors</td>\n",
       "      <td>Professional</td>\n",
       "      <td>No</td>\n",
       "      <td>1</td>\n",
       "      <td>12/29/2010</td>\n",
       "      <td>North Ryde</td>\n",
       "      <td>New South Wales</td>\n",
       "      <td>Australia</td>\n",
       "    </tr>\n",
       "    <tr>\n",
       "      <th>4</th>\n",
       "      <td>11004</td>\n",
       "      <td>19</td>\n",
       "      <td>Elizabeth Johnson</td>\n",
       "      <td>45</td>\n",
       "      <td>Single</td>\n",
       "      <td>Female</td>\n",
       "      <td>80000</td>\n",
       "      <td>5</td>\n",
       "      <td>5</td>\n",
       "      <td>Bachelors</td>\n",
       "      <td>Professional</td>\n",
       "      <td>Yes</td>\n",
       "      <td>4</td>\n",
       "      <td>1/23/2011</td>\n",
       "      <td>Wollongong</td>\n",
       "      <td>New South Wales</td>\n",
       "      <td>Australia</td>\n",
       "    </tr>\n",
       "  </tbody>\n",
       "</table>\n",
       "</div>"
      ],
      "text/plain": [
       "   CustomerKey  GeographyKey              FullName  CustomerAge MaritalStatus  \\\n",
       "0        11000            26           Jon Yang V            53       Married   \n",
       "1        11001            37       Eugene Huang L            48        Single   \n",
       "2        11002            31        Ruben Torres             53       Married   \n",
       "3        11003            11         Christy Zhu             51        Single   \n",
       "4        11004            19   Elizabeth Johnson             45        Single   \n",
       "\n",
       "   Gender  YearlyIncome  TotalChildren  NumberChildrenAtHome EnglishEducation  \\\n",
       "0    Male         90000              2                     0        Bachelors   \n",
       "1    Male         60000              3                     3        Bachelors   \n",
       "2    Male         60000              3                     3        Bachelors   \n",
       "3  Female         70000              0                     0        Bachelors   \n",
       "4  Female         80000              5                     5        Bachelors   \n",
       "\n",
       "  EnglishOccupation HouseOwner  NumberCarsOwned DateFirstPurchase  \\\n",
       "0      Professional        Yes                0         1/19/2011   \n",
       "1      Professional         No                1         1/15/2011   \n",
       "2      Professional        Yes                1          1/7/2011   \n",
       "3      Professional         No                1        12/29/2010   \n",
       "4      Professional        Yes                4         1/23/2011   \n",
       "\n",
       "          City    StateProvince    Country  \n",
       "0  Rockhampton       Queensland  Australia  \n",
       "1      Seaford         Victoria  Australia  \n",
       "2       Hobart         Tasmania  Australia  \n",
       "3   North Ryde  New South Wales  Australia  \n",
       "4   Wollongong  New South Wales  Australia  "
      ]
     },
     "execution_count": 186,
     "metadata": {},
     "output_type": "execute_result"
    }
   ],
   "source": [
    "customers.head()"
   ]
  },
  {
   "cell_type": "code",
   "execution_count": 191,
   "id": "f8a3b241",
   "metadata": {},
   "outputs": [
    {
     "data": {
      "text/plain": [
       "<AxesSubplot:ylabel='MaritalStatus'>"
      ]
     },
     "execution_count": 191,
     "metadata": {},
     "output_type": "execute_result"
    },
    {
     "data": {
      "image/png": "[encoded data removed]",
      "text/plain": [
       "<Figure size 432x288 with 1 Axes>"
      ]
     },
     "metadata": {},
     "output_type": "display_data"
    }
   ],
   "source": [
    "customers[\"MaritalStatus\"].value_counts().plot(kind = \"pie\", title = \"Marital Status of Customers\")"
   ]
  },
  {
   "cell_type": "code",
   "execution_count": 195,
   "id": "8773f676",
   "metadata": {},
   "outputs": [
    {
     "data": {
      "image/png": "[encoded data removed]",
      "text/plain": [
       "<Figure size 432x288 with 1 Axes>"
      ]
     },
     "metadata": {
      "needs_background": "light"
     },
     "output_type": "display_data"
    }
   ],
   "source": [
    "customers[\"Gender\"].value_counts().plot(kind = \"bar\", title = \"Gender Distribution of Customers\");"
   ]
  },
  {
   "cell_type": "code",
   "execution_count": 196,
   "id": "d56f9fd8",
   "metadata": {},
   "outputs": [
    {
     "data": {
      "image/png": "[encoded data removed]",
      "text/plain": [
       "<Figure size 432x288 with 1 Axes>"
      ]
     },
     "metadata": {
      "needs_background": "light"
     },
     "output_type": "display_data"
    }
   ],
   "source": [
    "customers[\"EnglishEducation\"].value_counts().plot(kind = \"bar\", title = \"Education of Customers\");"
   ]
  },
  {
   "cell_type": "code",
   "execution_count": 197,
   "id": "e92ae694",
   "metadata": {},
   "outputs": [
    {
     "data": {
      "image/png": "[encoded data removed]",
      "text/plain": [
       "<Figure size 432x288 with 1 Axes>"
      ]
     },
     "metadata": {
      "needs_background": "light"
     },
     "output_type": "display_data"
    }
   ],
   "source": [
    "customers[\"EnglishOccupation\"].value_counts().plot(kind = \"bar\", title = \"Occupation of Customers\");"
   ]
  },
  {
   "cell_type": "code",
   "execution_count": 200,
   "id": "88283ee2",
   "metadata": {},
   "outputs": [
    {
     "data": {
      "image/png": "[encoded data removed]",
      "text/plain": [
       "<Figure size 432x288 with 1 Axes>"
      ]
     },
     "metadata": {},
     "output_type": "display_data"
    }
   ],
   "source": [
    "customers[\"HouseOwner\"].value_counts().plot(kind = \"pie\", title = \"How many customers have houses\");"
   ]
  },
  {
   "cell_type": "code",
   "execution_count": 202,
   "id": "53964e92",
   "metadata": {},
   "outputs": [
    {
     "data": {
      "image/png": "[encoded data removed]",
      "text/plain": [
       "<Figure size 432x288 with 1 Axes>"
      ]
     },
     "metadata": {},
     "output_type": "display_data"
    }
   ],
   "source": [
    "customers[\"NumberCarsOwned\"].value_counts().plot(kind = \"pie\", title = \"Car Ownership Distribution of Customers\");"
   ]
  },
  {
   "cell_type": "code",
   "execution_count": 204,
   "id": "e8e62cb9",
   "metadata": {},
   "outputs": [
    {
     "data": {
      "image/png": "[encoded data removed]",
      "text/plain": [
       "<Figure size 432x288 with 1 Axes>"
      ]
     },
     "metadata": {
      "needs_background": "light"
     },
     "output_type": "display_data"
    }
   ],
   "source": [
    "customers[\"Country\"].value_counts().plot(kind = \"bar\", title = \"Population of Customers in each Country\");"
   ]
  },
  {
   "cell_type": "code",
   "execution_count": 212,
   "id": "3bceb147",
   "metadata": {},
   "outputs": [
    {
     "name": "stdout",
     "output_type": "stream",
     "text": [
      "Total Number of Customers: 18484\n"
     ]
    }
   ],
   "source": [
    "\n",
    "print(\"Total Number of Customers:\", customers[\"CustomerKey\"].count())"
   ]
  },
  {
   "cell_type": "code",
   "execution_count": 216,
   "id": "3c414435",
   "metadata": {},
   "outputs": [
    {
     "data": {
      "text/plain": [
       "2030            Sophia Lopez C \n",
       "5079           Natalie Carter  \n",
       "6175           Amanda Roberts  \n",
       "6282        Alyssa Alexander M \n",
       "6862             Aaron Baker E \n",
       "6888                Mandy Liu  \n",
       "7037            Bruce Garcia B \n",
       "7050              Sara Cooper  \n",
       "7531           Thomas Simmons  \n",
       "7825           Brandon Smith A \n",
       "10144        Lucas Richardson  \n",
       "10155        Jeremiah Flores D \n",
       "10360            Orlando Gill  \n",
       "10716            Gerald Sara C \n",
       "10867    Mr. Michael Ruggiero  \n",
       "11503            Sandra Zhao S \n",
       "11783            Isaac Green C \n",
       "13027              Omar Tang L \n",
       "14345          Olivia Powell B \n",
       "15209                Jan Cox R \n",
       "15535            Kelly Perry E \n",
       "16144           Franklin Shen  \n",
       "16225           Isaac Murphy L \n",
       "17703         Felicia Suarez W \n",
       "18330             Alexa Ward W \n",
       "Name: FullName, dtype: object"
      ]
     },
     "execution_count": 216,
     "metadata": {},
     "output_type": "execute_result"
    }
   ],
   "source": [
    "#Oldest Customers\n",
    "customers[customers[\"DateFirstPurchase\"] == customers[\"DateFirstPurchase\"].max()][\"FullName\"]"
   ]
  },
  {
   "cell_type": "code",
   "execution_count": 218,
   "id": "5caad60b",
   "metadata": {},
   "outputs": [
    {
     "data": {
      "text/html": [
       "<div>\n",
       "<style scoped>\n",
       "    .dataframe tbody tr th:only-of-type {\n",
       "        vertical-align: middle;\n",
       "    }\n",
       "\n",
       "    .dataframe tbody tr th {\n",
       "        vertical-align: top;\n",
       "    }\n",
       "\n",
       "    .dataframe thead th {\n",
       "        text-align: right;\n",
       "    }\n",
       "</style>\n",
       "<table border=\"1\" class=\"dataframe\">\n",
       "  <thead>\n",
       "    <tr style=\"text-align: right;\">\n",
       "      <th></th>\n",
       "      <th>ProductKey</th>\n",
       "      <th>CustomerKey</th>\n",
       "      <th>OrderQuantity</th>\n",
       "      <th>OverallProductCost</th>\n",
       "      <th>SalesAmount</th>\n",
       "      <th>Profit</th>\n",
       "      <th>SalesReason</th>\n",
       "      <th>Continent</th>\n",
       "      <th>Country</th>\n",
       "      <th>Region</th>\n",
       "      <th>...</th>\n",
       "      <th>YearlyIncome</th>\n",
       "      <th>TotalChildren</th>\n",
       "      <th>NumberChildrenAtHome</th>\n",
       "      <th>EnglishEducation</th>\n",
       "      <th>EnglishOccupation</th>\n",
       "      <th>HouseOwner</th>\n",
       "      <th>NumberCarsOwned</th>\n",
       "      <th>DateFirstPurchase</th>\n",
       "      <th>City</th>\n",
       "      <th>StateProvince</th>\n",
       "    </tr>\n",
       "  </thead>\n",
       "  <tbody>\n",
       "    <tr>\n",
       "      <th>0</th>\n",
       "      <td>310</td>\n",
       "      <td>21768</td>\n",
       "      <td>1</td>\n",
       "      <td>2547.0126</td>\n",
       "      <td>3578.27</td>\n",
       "      <td>1031.2574</td>\n",
       "      <td>Manufacturer</td>\n",
       "      <td>North America</td>\n",
       "      <td>Canada</td>\n",
       "      <td>Canada</td>\n",
       "      <td>...</td>\n",
       "      <td>70000</td>\n",
       "      <td>5</td>\n",
       "      <td>0</td>\n",
       "      <td>Bachelors</td>\n",
       "      <td>Management</td>\n",
       "      <td>Yes</td>\n",
       "      <td>3</td>\n",
       "      <td>12/29/2010</td>\n",
       "      <td>Metchosin</td>\n",
       "      <td>British Columbia</td>\n",
       "    </tr>\n",
       "    <tr>\n",
       "      <th>1</th>\n",
       "      <td>310</td>\n",
       "      <td>21768</td>\n",
       "      <td>1</td>\n",
       "      <td>2547.0126</td>\n",
       "      <td>3578.27</td>\n",
       "      <td>1031.2574</td>\n",
       "      <td>Quality</td>\n",
       "      <td>North America</td>\n",
       "      <td>Canada</td>\n",
       "      <td>Canada</td>\n",
       "      <td>...</td>\n",
       "      <td>70000</td>\n",
       "      <td>5</td>\n",
       "      <td>0</td>\n",
       "      <td>Bachelors</td>\n",
       "      <td>Management</td>\n",
       "      <td>Yes</td>\n",
       "      <td>3</td>\n",
       "      <td>12/29/2010</td>\n",
       "      <td>Metchosin</td>\n",
       "      <td>British Columbia</td>\n",
       "    </tr>\n",
       "    <tr>\n",
       "      <th>2</th>\n",
       "      <td>310</td>\n",
       "      <td>16624</td>\n",
       "      <td>1</td>\n",
       "      <td>2547.0126</td>\n",
       "      <td>3578.27</td>\n",
       "      <td>1031.2574</td>\n",
       "      <td>Manufacturer</td>\n",
       "      <td>Pacific</td>\n",
       "      <td>Australia</td>\n",
       "      <td>Australia</td>\n",
       "      <td>...</td>\n",
       "      <td>90000</td>\n",
       "      <td>0</td>\n",
       "      <td>0</td>\n",
       "      <td>Bachelors</td>\n",
       "      <td>Professional</td>\n",
       "      <td>No</td>\n",
       "      <td>3</td>\n",
       "      <td>12/30/2010</td>\n",
       "      <td>Perth</td>\n",
       "      <td>South Australia</td>\n",
       "    </tr>\n",
       "    <tr>\n",
       "      <th>3</th>\n",
       "      <td>310</td>\n",
       "      <td>16624</td>\n",
       "      <td>1</td>\n",
       "      <td>2547.0126</td>\n",
       "      <td>3578.27</td>\n",
       "      <td>1031.2574</td>\n",
       "      <td>Quality</td>\n",
       "      <td>Pacific</td>\n",
       "      <td>Australia</td>\n",
       "      <td>Australia</td>\n",
       "      <td>...</td>\n",
       "      <td>90000</td>\n",
       "      <td>0</td>\n",
       "      <td>0</td>\n",
       "      <td>Bachelors</td>\n",
       "      <td>Professional</td>\n",
       "      <td>No</td>\n",
       "      <td>3</td>\n",
       "      <td>12/30/2010</td>\n",
       "      <td>Perth</td>\n",
       "      <td>South Australia</td>\n",
       "    </tr>\n",
       "    <tr>\n",
       "      <th>4</th>\n",
       "      <td>537</td>\n",
       "      <td>16624</td>\n",
       "      <td>1</td>\n",
       "      <td>16.7650</td>\n",
       "      <td>35.00</td>\n",
       "      <td>18.2350</td>\n",
       "      <td>Price</td>\n",
       "      <td>Pacific</td>\n",
       "      <td>Australia</td>\n",
       "      <td>Australia</td>\n",
       "      <td>...</td>\n",
       "      <td>90000</td>\n",
       "      <td>0</td>\n",
       "      <td>0</td>\n",
       "      <td>Bachelors</td>\n",
       "      <td>Professional</td>\n",
       "      <td>No</td>\n",
       "      <td>3</td>\n",
       "      <td>12/30/2010</td>\n",
       "      <td>Perth</td>\n",
       "      <td>South Australia</td>\n",
       "    </tr>\n",
       "    <tr>\n",
       "      <th>...</th>\n",
       "      <td>...</td>\n",
       "      <td>...</td>\n",
       "      <td>...</td>\n",
       "      <td>...</td>\n",
       "      <td>...</td>\n",
       "      <td>...</td>\n",
       "      <td>...</td>\n",
       "      <td>...</td>\n",
       "      <td>...</td>\n",
       "      <td>...</td>\n",
       "      <td>...</td>\n",
       "      <td>...</td>\n",
       "      <td>...</td>\n",
       "      <td>...</td>\n",
       "      <td>...</td>\n",
       "      <td>...</td>\n",
       "      <td>...</td>\n",
       "      <td>...</td>\n",
       "      <td>...</td>\n",
       "      <td>...</td>\n",
       "      <td>...</td>\n",
       "    </tr>\n",
       "    <tr>\n",
       "      <th>188152</th>\n",
       "      <td>569</td>\n",
       "      <td>28488</td>\n",
       "      <td>1</td>\n",
       "      <td>539.3916</td>\n",
       "      <td>742.35</td>\n",
       "      <td>202.9584</td>\n",
       "      <td>On Promotion</td>\n",
       "      <td>Pacific</td>\n",
       "      <td>Australia</td>\n",
       "      <td>Australia</td>\n",
       "      <td>...</td>\n",
       "      <td>20000</td>\n",
       "      <td>0</td>\n",
       "      <td>0</td>\n",
       "      <td>Partial College</td>\n",
       "      <td>Manual</td>\n",
       "      <td>Yes</td>\n",
       "      <td>0</td>\n",
       "      <td>6/17/2013</td>\n",
       "      <td>Melbourne</td>\n",
       "      <td>Victoria</td>\n",
       "    </tr>\n",
       "    <tr>\n",
       "      <th>188153</th>\n",
       "      <td>569</td>\n",
       "      <td>24955</td>\n",
       "      <td>1</td>\n",
       "      <td>539.3916</td>\n",
       "      <td>742.35</td>\n",
       "      <td>202.9584</td>\n",
       "      <td>On Promotion</td>\n",
       "      <td>North America</td>\n",
       "      <td>United States</td>\n",
       "      <td>Southwest</td>\n",
       "      <td>...</td>\n",
       "      <td>30000</td>\n",
       "      <td>5</td>\n",
       "      <td>0</td>\n",
       "      <td>Partial High School</td>\n",
       "      <td>Skilled Manual</td>\n",
       "      <td>Yes</td>\n",
       "      <td>3</td>\n",
       "      <td>7/7/2013</td>\n",
       "      <td>Chula Vista</td>\n",
       "      <td>California</td>\n",
       "    </tr>\n",
       "    <tr>\n",
       "      <th>188154</th>\n",
       "      <td>569</td>\n",
       "      <td>27768</td>\n",
       "      <td>1</td>\n",
       "      <td>539.3916</td>\n",
       "      <td>742.35</td>\n",
       "      <td>202.9584</td>\n",
       "      <td>On Promotion</td>\n",
       "      <td>Europe</td>\n",
       "      <td>France</td>\n",
       "      <td>France</td>\n",
       "      <td>...</td>\n",
       "      <td>20000</td>\n",
       "      <td>1</td>\n",
       "      <td>1</td>\n",
       "      <td>High School</td>\n",
       "      <td>Manual</td>\n",
       "      <td>No</td>\n",
       "      <td>1</td>\n",
       "      <td>10/17/2013</td>\n",
       "      <td>Orleans</td>\n",
       "      <td>Loiret</td>\n",
       "    </tr>\n",
       "    <tr>\n",
       "      <th>188155</th>\n",
       "      <td>568</td>\n",
       "      <td>25759</td>\n",
       "      <td>1</td>\n",
       "      <td>539.3916</td>\n",
       "      <td>742.35</td>\n",
       "      <td>202.9584</td>\n",
       "      <td>On Promotion</td>\n",
       "      <td>Europe</td>\n",
       "      <td>France</td>\n",
       "      <td>France</td>\n",
       "      <td>...</td>\n",
       "      <td>20000</td>\n",
       "      <td>1</td>\n",
       "      <td>1</td>\n",
       "      <td>Partial College</td>\n",
       "      <td>Manual</td>\n",
       "      <td>Yes</td>\n",
       "      <td>1</td>\n",
       "      <td>2/22/2013</td>\n",
       "      <td>Saint Germain en Laye</td>\n",
       "      <td>Yveline</td>\n",
       "    </tr>\n",
       "    <tr>\n",
       "      <th>188156</th>\n",
       "      <td>568</td>\n",
       "      <td>29081</td>\n",
       "      <td>1</td>\n",
       "      <td>539.3916</td>\n",
       "      <td>742.35</td>\n",
       "      <td>202.9584</td>\n",
       "      <td>On Promotion</td>\n",
       "      <td>Pacific</td>\n",
       "      <td>Australia</td>\n",
       "      <td>Australia</td>\n",
       "      <td>...</td>\n",
       "      <td>20000</td>\n",
       "      <td>2</td>\n",
       "      <td>1</td>\n",
       "      <td>Partial High School</td>\n",
       "      <td>Clerical</td>\n",
       "      <td>Yes</td>\n",
       "      <td>2</td>\n",
       "      <td>7/24/2013</td>\n",
       "      <td>Perth</td>\n",
       "      <td>South Australia</td>\n",
       "    </tr>\n",
       "  </tbody>\n",
       "</table>\n",
       "<p>188157 rows × 36 columns</p>\n",
       "</div>"
      ],
      "text/plain": [
       "        ProductKey  CustomerKey  OrderQuantity  OverallProductCost  \\\n",
       "0              310        21768              1           2547.0126   \n",
       "1              310        21768              1           2547.0126   \n",
       "2              310        16624              1           2547.0126   \n",
       "3              310        16624              1           2547.0126   \n",
       "4              537        16624              1             16.7650   \n",
       "...            ...          ...            ...                 ...   \n",
       "188152         569        28488              1            539.3916   \n",
       "188153         569        24955              1            539.3916   \n",
       "188154         569        27768              1            539.3916   \n",
       "188155         568        25759              1            539.3916   \n",
       "188156         568        29081              1            539.3916   \n",
       "\n",
       "        SalesAmount     Profit   SalesReason      Continent        Country  \\\n",
       "0           3578.27  1031.2574  Manufacturer  North America         Canada   \n",
       "1           3578.27  1031.2574       Quality  North America         Canada   \n",
       "2           3578.27  1031.2574  Manufacturer        Pacific      Australia   \n",
       "3           3578.27  1031.2574       Quality        Pacific      Australia   \n",
       "4             35.00    18.2350         Price        Pacific      Australia   \n",
       "...             ...        ...           ...            ...            ...   \n",
       "188152       742.35   202.9584  On Promotion        Pacific      Australia   \n",
       "188153       742.35   202.9584  On Promotion  North America  United States   \n",
       "188154       742.35   202.9584  On Promotion         Europe         France   \n",
       "188155       742.35   202.9584  On Promotion         Europe         France   \n",
       "188156       742.35   202.9584  On Promotion        Pacific      Australia   \n",
       "\n",
       "           Region  ... YearlyIncome TotalChildren NumberChildrenAtHome  \\\n",
       "0          Canada  ...        70000             5                    0   \n",
       "1          Canada  ...        70000             5                    0   \n",
       "2       Australia  ...        90000             0                    0   \n",
       "3       Australia  ...        90000             0                    0   \n",
       "4       Australia  ...        90000             0                    0   \n",
       "...           ...  ...          ...           ...                  ...   \n",
       "188152  Australia  ...        20000             0                    0   \n",
       "188153  Southwest  ...        30000             5                    0   \n",
       "188154     France  ...        20000             1                    1   \n",
       "188155     France  ...        20000             1                    1   \n",
       "188156  Australia  ...        20000             2                    1   \n",
       "\n",
       "           EnglishEducation EnglishOccupation HouseOwner NumberCarsOwned  \\\n",
       "0                 Bachelors        Management        Yes               3   \n",
       "1                 Bachelors        Management        Yes               3   \n",
       "2                 Bachelors      Professional         No               3   \n",
       "3                 Bachelors      Professional         No               3   \n",
       "4                 Bachelors      Professional         No               3   \n",
       "...                     ...               ...        ...             ...   \n",
       "188152      Partial College            Manual        Yes               0   \n",
       "188153  Partial High School    Skilled Manual        Yes               3   \n",
       "188154          High School            Manual         No               1   \n",
       "188155      Partial College            Manual        Yes               1   \n",
       "188156  Partial High School          Clerical        Yes               2   \n",
       "\n",
       "       DateFirstPurchase                   City     StateProvince  \n",
       "0             12/29/2010              Metchosin  British Columbia  \n",
       "1             12/29/2010              Metchosin  British Columbia  \n",
       "2             12/30/2010                  Perth   South Australia  \n",
       "3             12/30/2010                  Perth   South Australia  \n",
       "4             12/30/2010                  Perth   South Australia  \n",
       "...                  ...                    ...               ...  \n",
       "188152         6/17/2013              Melbourne          Victoria  \n",
       "188153          7/7/2013            Chula Vista        California  \n",
       "188154        10/17/2013                Orleans            Loiret  \n",
       "188155         2/22/2013  Saint Germain en Laye           Yveline  \n",
       "188156         7/24/2013                  Perth   South Australia  \n",
       "\n",
       "[188157 rows x 36 columns]"
      ]
     },
     "execution_count": 218,
     "metadata": {},
     "output_type": "execute_result"
    }
   ],
   "source": [
    "#Merging the three files\n",
    "product_sales_customers = pd.merge(product_sales, customers)\n",
    "product_sales_customers"
   ]
  },
  {
   "cell_type": "code",
   "execution_count": 226,
   "id": "4323cad1",
   "metadata": {},
   "outputs": [],
   "source": [
    "product_sales_customers.drop(columns = [\"ProductKey\", \"CustomerKey\", \"SalesReason\", \"Country\", \n",
    "                                        \"Region\", \"DateFirstPurchase\", \"StateProvince\", \"City\", \"Continent\", \"OrderDate\", \n",
    "                                       \"Month\", \"Weekday\", \"Quarter\", \"DaysToManufacture\", \n",
    "                                        \"ProductSubcategory\", \"GeographyKey\"], inplace = True)"
   ]
  },
  {
   "cell_type": "code",
   "execution_count": 232,
   "id": "9da9472d",
   "metadata": {},
   "outputs": [
    {
     "data": {
      "text/plain": [
       "<AxesSubplot:>"
      ]
     },
     "execution_count": 232,
     "metadata": {},
     "output_type": "execute_result"
    },
    {
     "data": {
      "image/png": "[encoded data removed]",
      "text/plain": [
       "<Figure size 432x288 with 1 Axes>"
      ]
     },
     "metadata": {
      "needs_background": "light"
     },
     "output_type": "display_data"
    }
   ],
   "source": [
    "product_sales_customers[\"CustomerAge\"].hist()\n",
    "plt.xlabel(\"Age of Customers\")\n",
    "plt.ylabel(\"Frequency of Orders\")\n",
    "plt.title(\"Distribution of Orders by Age of Customers\")"
   ]
  },
  {
   "cell_type": "code",
   "execution_count": 235,
   "id": "ca3341ae",
   "metadata": {},
   "outputs": [
    {
     "data": {
      "image/png": "[encoded data removed]",
      "text/plain": [
       "<Figure size 432x288 with 1 Axes>"
      ]
     },
     "metadata": {
      "needs_background": "light"
     },
     "output_type": "display_data"
    }
   ],
   "source": [
    "product_sales_customers[\"YearlyIncome\"].hist()\n",
    "plt.xlabel(\"Yearly Income of Customers\")\n",
    "plt.ylabel(\"Frequency of Orders\")\n",
    "plt.title(\"Distribution of Orders by Income of Customers\");"
   ]
  },
  {
   "cell_type": "code",
   "execution_count": 238,
   "id": "3795b858",
   "metadata": {},
   "outputs": [
    {
     "data": {
      "image/png": "[encoded data removed]",
      "text/plain": [
       "<Figure size 432x288 with 1 Axes>"
      ]
     },
     "metadata": {
      "needs_background": "light"
     },
     "output_type": "display_data"
    }
   ],
   "source": [
    "(product_sales_customers[\"EnglishEducation\"].value_counts().\n",
    " plot(kind = \"bar\", xlabel = \"Education\", ylabel = \"Frequency of Orders\",\n",
    "     title = \"Orders of Customers Depending on Education\"));"
   ]
  },
  {
   "cell_type": "code",
   "execution_count": 239,
   "id": "ed012563",
   "metadata": {},
   "outputs": [
    {
     "data": {
      "image/png": "[encoded data removed]",
      "text/plain": [
       "<Figure size 432x288 with 1 Axes>"
      ]
     },
     "metadata": {
      "needs_background": "light"
     },
     "output_type": "display_data"
    }
   ],
   "source": [
    "(product_sales_customers[\"EnglishOccupation\"].value_counts().\n",
    " plot(kind = \"bar\", xlabel = \"Occupation\", ylabel = \"Frequency of Orders\",\n",
    "     title = \"Orders of Customers Depending on Occupation\"));"
   ]
  },
  {
   "cell_type": "code",
   "execution_count": 250,
   "id": "e26a69a1",
   "metadata": {},
   "outputs": [
    {
     "name": "stdout",
     "output_type": "stream",
     "text": [
      "Management\n"
     ]
    },
    {
     "data": {
      "image/png": "[encoded data removed]",
      "text/plain": [
       "<Figure size 432x288 with 1 Axes>"
      ]
     },
     "metadata": {
      "needs_background": "light"
     },
     "output_type": "display_data"
    },
    {
     "name": "stdout",
     "output_type": "stream",
     "text": [
      "Professional\n"
     ]
    },
    {
     "data": {
      "image/png": "[encoded data removed]",
      "text/plain": [
       "<Figure size 432x288 with 1 Axes>"
      ]
     },
     "metadata": {
      "needs_background": "light"
     },
     "output_type": "display_data"
    },
    {
     "name": "stdout",
     "output_type": "stream",
     "text": [
      "Skilled Manual\n"
     ]
    },
    {
     "data": {
      "image/png": "[encoded data removed]",
      "text/plain": [
       "<Figure size 432x288 with 1 Axes>"
      ]
     },
     "metadata": {
      "needs_background": "light"
     },
     "output_type": "display_data"
    },
    {
     "name": "stdout",
     "output_type": "stream",
     "text": [
      "Manual\n"
     ]
    },
    {
     "data": {
      "image/png": "[encoded data removed]",
      "text/plain": [
       "<Figure size 432x288 with 1 Axes>"
      ]
     },
     "metadata": {
      "needs_background": "light"
     },
     "output_type": "display_data"
    },
    {
     "name": "stdout",
     "output_type": "stream",
     "text": [
      "Clerical\n"
     ]
    },
    {
     "data": {
      "image/png": "[encoded data removed]",
      "text/plain": [
       "<Figure size 432x288 with 1 Axes>"
      ]
     },
     "metadata": {
      "needs_background": "light"
     },
     "output_type": "display_data"
    }
   ],
   "source": [
    "for occupation in product_sales_customers[\"EnglishOccupation\"].unique():\n",
    "    (product_sales_customers[product_sales_customers[\"EnglishOccupation\"] == occupation].\n",
    "     groupby(\"ProductLine\")[\"OrderQuantity\"].sum().sort_values(ascending = False).\n",
    "    plot(kind = \"bar\", title = f\"ProductLine most ordered by {occupation}\"))\n",
    "    plt.show()"
   ]
  },
  {
   "cell_type": "code",
   "execution_count": 254,
   "id": "6b3d4424",
   "metadata": {},
   "outputs": [
    {
     "data": {
      "image/png": "[encoded data removed]",
      "text/plain": [
       "<Figure size 432x288 with 1 Axes>"
      ]
     },
     "metadata": {
      "needs_background": "light"
     },
     "output_type": "display_data"
    },
    {
     "data": {
      "image/png": "[encoded data removed]",
      "text/plain": [
       "<Figure size 432x288 with 1 Axes>"
      ]
     },
     "metadata": {
      "needs_background": "light"
     },
     "output_type": "display_data"
    }
   ],
   "source": [
    "for gender in product_sales_customers[\"Gender\"].unique():\n",
    "    (product_sales_customers[product_sales_customers[\"Gender\"] == gender].\n",
    "     groupby(\"ProductName\")[\"OrderQuantity\"].sum().sort_values(ascending = False).head(5).\n",
    "    plot(kind = \"bar\", title = f\"Product most ordered by {gender}s\"))\n",
    "    plt.show()"
   ]
  },
  {
   "cell_type": "code",
   "execution_count": 256,
   "id": "720ae941",
   "metadata": {},
   "outputs": [
    {
     "data": {
      "text/plain": [
       "<AxesSubplot:xlabel='YearlyIncome', ylabel='SalesAmount'>"
      ]
     },
     "execution_count": 256,
     "metadata": {},
     "output_type": "execute_result"
    },
    {
     "data": {
      "image/png": "[encoded data removed]",
      "text/plain": [
       "<Figure size 432x288 with 1 Axes>"
      ]
     },
     "metadata": {
      "needs_background": "light"
     },
     "output_type": "display_data"
    }
   ],
   "source": [
    "product_sales_customers.plot(kind = \"scatter\", x = \"YearlyIncome\", y = \"SalesAmount\")"
   ]
  },
  {
   "cell_type": "code",
   "execution_count": 260,
   "id": "54958155",
   "metadata": {},
   "outputs": [
    {
     "data": {
      "text/plain": [
       "<matplotlib.collections.PathCollection at 0x281806e9730>"
      ]
     },
     "execution_count": 260,
     "metadata": {},
     "output_type": "execute_result"
    },
    {
     "data": {
      "image/png": "[encoded data removed]",
      "text/plain": [
       "<Figure size 432x288 with 1 Axes>"
      ]
     },
     "metadata": {
      "needs_background": "light"
     },
     "output_type": "display_data"
    }
   ],
   "source": [
    "plt.scatter(product_sales_customers[\"TotalChildren\"], product_sales_customers[\"SalesAmount\"])"
   ]
  },
  {
   "cell_type": "code",
   "execution_count": null,
   "id": "b44210e9",
   "metadata": {},
   "outputs": [],
   "source": []
  }
 ],
 "metadata": {
  "kernelspec": {
   "display_name": "Python 3 (ipykernel)",
   "language": "python",
   "name": "python3"
  },
  "language_info": {
   "codemirror_mode": {
    "name": "ipython",
    "version": 3
   },
   "file_extension": ".py",
   "mimetype": "text/x-python",
   "name": "python",
   "nbconvert_exporter": "python",
   "pygments_lexer": "ipython3",
   "version": "3.9.7"
  }
 },
 "nbformat": 4,
 "nbformat_minor": 5
}
